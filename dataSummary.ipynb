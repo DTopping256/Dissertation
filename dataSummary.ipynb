{
 "cells": [
  {
   "cell_type": "code",
   "execution_count": 1,
   "metadata": {},
   "outputs": [
    {
     "name": "stdout",
     "output_type": "stream",
     "text": [
      "Attempting to read settings file...\n",
      "\tRead successfully!\n"
     ]
    }
   ],
   "source": [
    "import os \n",
    "import sys\n",
    "\n",
    "# Allows me to import my modules\n",
    "sys.path.append('./modules')\n",
    "from audio_utils import *\n",
    "from multiclass_labelling_utils import hit_breakdown, kit_combinations"
   ]
  },
  {
   "cell_type": "code",
   "execution_count": 2,
   "metadata": {},
   "outputs": [
    {
     "name": "stdout",
     "output_type": "stream",
     "text": [
      "There are 10 different kit-label tech-label combinations individually, with 5 hit combinations producing 89 multiclass labels.\n"
     ]
    }
   ],
   "source": [
    "breakdown = hit_breakdown()\n",
    "kcs = kit_combinations()\n",
    "# 10, 5, 87 (expected)\n",
    "print(\"There are {} different kit-label tech-label combinations individually, with {} hit combinations producing {} multiclass labels.\".format(len(breakdown[\"beater\"])+len(breakdown[\"stick\"]), len(SETTINGS.data[\"multiclassed\"][\"hit_combinations\"]), len(kcs)))"
   ]
  },
  {
   "cell_type": "code",
   "execution_count": 3,
   "metadata": {},
   "outputs": [
    {
     "ename": "TypeError",
     "evalue": "unsupported operand type(s) for +: 'dict_keys' and 'list'",
     "output_type": "error",
     "traceback": [
      "\u001b[1;31m---------------------------------------------------------------------------\u001b[0m",
      "\u001b[1;31mTypeError\u001b[0m                                 Traceback (most recent call last)",
      "\u001b[1;32m<ipython-input-3-e0ece954f870>\u001b[0m in \u001b[0;36m<module>\u001b[1;34m\u001b[0m\n\u001b[1;32m----> 1\u001b[1;33m \u001b[0moverall_count\u001b[0m \u001b[1;33m=\u001b[0m \u001b[1;33m{\u001b[0m\u001b[0mk\u001b[0m\u001b[1;33m:\u001b[0m \u001b[1;33m{\u001b[0m\u001b[1;33m}\u001b[0m \u001b[1;32mfor\u001b[0m \u001b[0mk\u001b[0m \u001b[1;32min\u001b[0m \u001b[0mSETTINGS\u001b[0m\u001b[1;33m.\u001b[0m\u001b[0mdata\u001b[0m\u001b[1;33m.\u001b[0m\u001b[0mkeys\u001b[0m\u001b[1;33m(\u001b[0m\u001b[1;33m)\u001b[0m\u001b[1;33m+\u001b[0m\u001b[1;33m[\u001b[0m\u001b[1;34m\"splash\"\u001b[0m\u001b[1;33m]\u001b[0m\u001b[1;33m}\u001b[0m\u001b[1;33m\u001b[0m\u001b[1;33m\u001b[0m\u001b[0m\n\u001b[0m\u001b[0;32m      2\u001b[0m \u001b[1;32mfor\u001b[0m \u001b[0mdatatype\u001b[0m \u001b[1;32min\u001b[0m \u001b[0mSETTINGS\u001b[0m\u001b[1;33m.\u001b[0m\u001b[0mdata\u001b[0m\u001b[1;33m.\u001b[0m\u001b[0mkeys\u001b[0m\u001b[1;33m(\u001b[0m\u001b[1;33m)\u001b[0m\u001b[1;33m:\u001b[0m\u001b[1;33m\u001b[0m\u001b[1;33m\u001b[0m\u001b[0m\n\u001b[0;32m      3\u001b[0m     \u001b[0mfile_data\u001b[0m \u001b[1;33m=\u001b[0m \u001b[0mget_file_classes\u001b[0m\u001b[1;33m(\u001b[0m\u001b[0mdatatype\u001b[0m\u001b[1;33m)\u001b[0m\u001b[1;33m\u001b[0m\u001b[1;33m\u001b[0m\u001b[0m\n\u001b[0;32m      4\u001b[0m     \u001b[0mfiles_found\u001b[0m \u001b[1;33m=\u001b[0m \u001b[0mlen\u001b[0m\u001b[1;33m(\u001b[0m\u001b[0mfile_data\u001b[0m\u001b[1;33m)\u001b[0m\u001b[1;33m\u001b[0m\u001b[1;33m\u001b[0m\u001b[0m\n\u001b[0;32m      5\u001b[0m     \u001b[0mprint\u001b[0m\u001b[1;33m(\u001b[0m\u001b[1;34m\"\\n{} data: {} files.\"\u001b[0m\u001b[1;33m.\u001b[0m\u001b[0mformat\u001b[0m\u001b[1;33m(\u001b[0m\u001b[0mdatatype\u001b[0m\u001b[1;33m,\u001b[0m \u001b[0mfiles_found\u001b[0m\u001b[1;33m)\u001b[0m\u001b[1;33m)\u001b[0m\u001b[1;33m\u001b[0m\u001b[1;33m\u001b[0m\u001b[0m\n",
      "\u001b[1;31mTypeError\u001b[0m: unsupported operand type(s) for +: 'dict_keys' and 'list'"
     ]
    }
   ],
   "source": [
    "overall_count = {k: {} for k in SETTINGS.data.keys()}\n",
    "for datatype in SETTINGS.data.keys():\n",
    "    file_data = get_file_classes(datatype)\n",
    "    files_found = len(file_data)\n",
    "    print(\"\\n{} data: {} files.\".format(datatype, files_found))\n",
    "    if (files_found > 0):\n",
    "        if (\"multiclassed\" in datatype or \"post_multiclass\" in datatype):\n",
    "            for kc in kcs:\n",
    "                data_count = 0\n",
    "                for fd in file_data:\n",
    "                    kls, tls = fd[\"labels\"][\"kit_label\"], fd[\"labels\"][\"tech_label\"]\n",
    "                    kltls_arr = [\"-\".join([kls[i], tls[i]]) for i in range(len(kls))]\n",
    "                    kltls_arr.sort()\n",
    "                    kltls = set(kltls_arr)\n",
    "                    if (kc == kltls):\n",
    "                        data_count += 1\n",
    "                #print(\"Found {} : {}\".format(data_count, kc))\n",
    "                overall_count[datatype][\"--\".join(list(kc))] = data_count\n",
    "        else:\n",
    "            for kltl in breakdown[\"beater\"]+breakdown[\"stick\"]:\n",
    "                kc = set([kltl])\n",
    "                data_count = 0\n",
    "                for fd in file_data:\n",
    "                    kls, tls = fd[\"labels\"][\"kit_label\"], fd[\"labels\"][\"tech_label\"]\n",
    "                    kltls_arr = [\"-\".join([kls[i], tls[i]]) for i in range(len(kls))]\n",
    "                    kltls_arr.sort()\n",
    "                    kltls = set(kltls_arr)\n",
    "                    if (kc == kltls):\n",
    "                        data_count += 1\n",
    "                #print(\"Found {} : {}-{}\".format(data_count, kc))\n",
    "                overall_count[datatype][\"--\".join(list(kc))] = data_count"
   ]
  },
  {
   "cell_type": "code",
   "execution_count": null,
   "metadata": {},
   "outputs": [],
   "source": [
    "overall_count"
   ]
  }
 ],
 "metadata": {
  "kernelspec": {
   "display_name": "Python 3",
   "language": "python",
   "name": "python3"
  },
  "language_info": {
   "codemirror_mode": {
    "name": "ipython",
    "version": 3
   },
   "file_extension": ".py",
   "mimetype": "text/x-python",
   "name": "python",
   "nbconvert_exporter": "python",
   "pygments_lexer": "ipython3",
   "version": "3.7.3"
  }
 },
 "nbformat": 4,
 "nbformat_minor": 2
}
