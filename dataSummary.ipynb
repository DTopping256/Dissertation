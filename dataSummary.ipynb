{
 "cells": [
  {
   "cell_type": "code",
   "execution_count": 1,
   "metadata": {},
   "outputs": [
    {
     "name": "stdout",
     "output_type": "stream",
     "text": [
      "Attempting to read settings file...\n",
      "\tRead successfully!\n"
     ]
    }
   ],
   "source": [
    "import os \n",
    "import sys\n",
    "\n",
    "# Allows me to import my modules\n",
    "sys.path.append('./modules')\n",
    "from audio_utils import *\n",
    "from multiclass_labelling_utils import hit_breakdown, kit_combinations"
   ]
  },
  {
   "cell_type": "code",
   "execution_count": 2,
   "metadata": {},
   "outputs": [
    {
     "name": "stdout",
     "output_type": "stream",
     "text": [
      "There are 10 different kit-label tech-label combinations individually, with 5 hit combinations producing 87 multiclass labels.\n"
     ]
    }
   ],
   "source": [
    "breakdown = hit_breakdown()\n",
    "kcs = kit_combinations()\n",
    "# 10, 5, 87 (expected)\n",
    "print(\"There are {} different kit-label tech-label combinations individually, with {} hit combinations producing {} multiclass labels.\".format(len(breakdown[\"beater\"])+len(breakdown[\"stick\"]), len(SETTINGS.data[\"multiclassed\"][\"hit_combinations\"]), len(kcs)))"
   ]
  },
  {
   "cell_type": "code",
   "execution_count": 3,
   "metadata": {},
   "outputs": [
    {
     "name": "stdout",
     "output_type": "stream",
     "text": [
      "\n",
      "raw data: 0 files.\n",
      "\n",
      "cropped data: 0 files.\n",
      "\n",
      "pre_multiclass_augmented data: 0 files.\n",
      "\n",
      "multiclassed_per_aug data: 0 files.\n",
      "\n",
      "multiclassed_no_augs data: 0 files.\n",
      "\n",
      "multiclassed data: 0 files.\n",
      "\n",
      "post_multiclass_augmented data: 0 files.\n",
      "\n",
      "post_multiclass_augmented_no_pre data: 0 files.\n",
      "\n",
      "post_multiclass_augmented_per_pre data: 0 files.\n",
      "\n",
      "training data: 79351 files.\n",
      "\n",
      "validation data: 26448 files.\n",
      "\n",
      "test data: 26444 files.\n"
     ]
    }
   ],
   "source": [
    "overall_count = {k: {} for k in SETTINGS.data.keys()}\n",
    "for datatype in SETTINGS.data.keys():\n",
    "    file_data = get_file_classes(datatype)\n",
    "    files_found = len(file_data)\n",
    "    print(\"\\n{} data: {} files.\".format(datatype, files_found))\n",
    "    if (files_found > 0):\n",
    "        if (\"multiclassed\" in datatype or \"post_multiclass\" in datatype):\n",
    "            for kc in kcs:\n",
    "                data_count = 0\n",
    "                for fd in file_data:\n",
    "                    kls, tls = fd[\"labels\"][\"kit_label\"], fd[\"labels\"][\"tech_label\"]\n",
    "                    kltls_arr = [\"-\".join([kls[i], tls[i]]) for i in range(len(kls))]\n",
    "                    kltls_arr.sort()\n",
    "                    kltls = set(kltls_arr)\n",
    "                    if (kc == kltls):\n",
    "                        data_count += 1\n",
    "                #print(\"Found {} : {}\".format(data_count, kc))\n",
    "                overall_count[datatype][\"--\".join(list(kc))] = data_count\n",
    "        else:\n",
    "            for kltl in breakdown[\"beater\"]+breakdown[\"stick\"]:\n",
    "                kc = set([kltl])\n",
    "                data_count = 0\n",
    "                for fd in file_data:\n",
    "                    kls, tls = fd[\"labels\"][\"kit_label\"], fd[\"labels\"][\"tech_label\"]\n",
    "                    kltls_arr = [\"-\".join([kls[i], tls[i]]) for i in range(len(kls))]\n",
    "                    kltls_arr.sort()\n",
    "                    kltls = set(kltls_arr)\n",
    "                    if (kc == kltls):\n",
    "                        data_count += 1\n",
    "                #print(\"Found {} : {}-{}\".format(data_count, kc))\n",
    "                overall_count[datatype][\"--\".join(list(kc))] = data_count"
   ]
  },
  {
   "cell_type": "code",
   "execution_count": 4,
   "metadata": {},
   "outputs": [
    {
     "data": {
      "text/plain": [
       "{'raw': {},\n",
       " 'cropped': {},\n",
       " 'pre_multiclass_augmented': {},\n",
       " 'multiclassed_per_aug': {},\n",
       " 'multiclassed_no_augs': {},\n",
       " 'multiclassed': {},\n",
       " 'post_multiclass_augmented': {},\n",
       " 'post_multiclass_augmented_no_pre': {},\n",
       " 'post_multiclass_augmented_per_pre': {},\n",
       " 'training': {'bass_drum-normal': 2454,\n",
       "  'crash-normal': 2542,\n",
       "  'hi_hat-normal': 2337,\n",
       "  'hi_hat-open': 2476,\n",
       "  'high_tom-normal': 2394,\n",
       "  'mid_tom-normal': 2321,\n",
       "  'low_tom-normal': 2543,\n",
       "  'ride-normal': 2389,\n",
       "  'ride-bell': 2391,\n",
       "  'snare-normal': 2377},\n",
       " 'validation': {'bass_drum-normal': 818,\n",
       "  'crash-normal': 845,\n",
       "  'hi_hat-normal': 779,\n",
       "  'hi_hat-open': 824,\n",
       "  'high_tom-normal': 800,\n",
       "  'mid_tom-normal': 774,\n",
       "  'low_tom-normal': 849,\n",
       "  'ride-normal': 793,\n",
       "  'ride-bell': 798,\n",
       "  'snare-normal': 793},\n",
       " 'test': {'bass_drum-normal': 822,\n",
       "  'crash-normal': 844,\n",
       "  'hi_hat-normal': 777,\n",
       "  'hi_hat-open': 830,\n",
       "  'high_tom-normal': 795,\n",
       "  'mid_tom-normal': 776,\n",
       "  'low_tom-normal': 849,\n",
       "  'ride-normal': 799,\n",
       "  'ride-bell': 790,\n",
       "  'snare-normal': 791}}"
      ]
     },
     "execution_count": 4,
     "metadata": {},
     "output_type": "execute_result"
    }
   ],
   "source": [
    "overall_count"
   ]
  },
  {
   "cell_type": "markdown",
   "metadata": {},
   "source": [
    "132,243"
   ]
  }
 ],
 "metadata": {
  "kernelspec": {
   "display_name": "Python 3",
   "language": "python",
   "name": "python3"
  },
  "language_info": {
   "codemirror_mode": {
    "name": "ipython",
    "version": 3
   },
   "file_extension": ".py",
   "mimetype": "text/x-python",
   "name": "python",
   "nbconvert_exporter": "python",
   "pygments_lexer": "ipython3",
   "version": "3.7.3"
  }
 },
 "nbformat": 4,
 "nbformat_minor": 2
}
