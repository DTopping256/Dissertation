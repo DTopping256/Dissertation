{
 "cells": [
  {
   "cell_type": "code",
   "execution_count": 1,
   "metadata": {},
   "outputs": [
    {
     "name": "stdout",
     "output_type": "stream",
     "text": [
      "Attempting to read settings file...\n",
      "\tRead successfully!\n"
     ]
    }
   ],
   "source": [
    "import os \n",
    "import sys\n",
    "\n",
    "# Allows me to import my modules\n",
    "sys.path.append('./modules')\n",
    "from audio_utils import *\n",
    "from multiclass_labelling_utils import hit_breakdown, kit_combinations"
   ]
  },
  {
   "cell_type": "code",
   "execution_count": 2,
   "metadata": {},
   "outputs": [
    {
     "name": "stdout",
     "output_type": "stream",
     "text": [
      "There are 10 different kit-label tech-label combinations individually, with 5 hit combinations producing 87 multiclass labels.\n"
     ]
    }
   ],
   "source": [
    "breakdown = hit_breakdown()\n",
    "kcs = kit_combinations()\n",
    "# 10, 5, 87 (expected)\n",
    "print(\"There are {} different kit-label tech-label combinations individually, with {} hit combinations producing {} multiclass labels.\".format(len(breakdown[\"beater\"])+len(breakdown[\"stick\"]), len(SETTINGS.data[\"multiclassed\"][\"hit_combinations\"]), len(kcs)))"
   ]
  },
  {
   "cell_type": "code",
   "execution_count": 3,
   "metadata": {},
   "outputs": [
    {
     "name": "stdout",
     "output_type": "stream",
     "text": [
      "\n",
      "raw data: 0 files.\n",
      "\n",
      "cropped data: 8531 files.\n",
      "\n",
      "pre_multiclass_augmented data: 12900 files.\n",
      "\n",
      "multiclassed_per_aug data: 0 files.\n",
      "\n",
      "multiclassed_no_augs data: 0 files.\n",
      "\n",
      "multiclassed data: 0 files.\n",
      "\n",
      "post_multiclass_augmented data: 0 files.\n",
      "\n",
      "post_multiclass_augmented_no_pre data: 0 files.\n",
      "\n",
      "post_multiclass_augmented_per_pre data: 0 files.\n",
      "\n",
      "training data: 168144 files.\n",
      "\n",
      "validation data: 56048 files.\n",
      "\n",
      "test data: 56048 files.\n"
     ]
    }
   ],
   "source": [
    "overall_count = {k: {} for k in SETTINGS.data.keys()}\n",
    "for datatype in SETTINGS.data.keys():\n",
    "    file_data = get_file_classes(datatype)\n",
    "    files_found = len(file_data)\n",
    "    print(\"\\n{} data: {} files.\".format(datatype, files_found))\n",
    "    if (files_found > 0):\n",
    "        if (\"multiclassed\" in datatype or \"post_multiclass\" in datatype):\n",
    "            for kc in kcs:\n",
    "                data_count = 0\n",
    "                for fd in file_data:\n",
    "                    kls, tls = fd[\"labels\"][\"kit_label\"], fd[\"labels\"][\"tech_label\"]\n",
    "                    kls.sort()\n",
    "                    tls.sort()\n",
    "                    kltls_arr = [\"-\".join([kls[i], tls[i]]) for i in range(len(kls))]\n",
    "                    kltls_arr.sort()\n",
    "                    kltls = set(kltls_arr)\n",
    "                    if (kc == kltls):\n",
    "                        data_count += 1\n",
    "                #print(\"Found {} : {}\".format(data_count, kc))\n",
    "                overall_count[datatype][\"--\".join(list(kc))] = data_count\n",
    "        else:\n",
    "            for kltl in breakdown[\"beater\"]+breakdown[\"stick\"]:\n",
    "                kc = set([kltl])\n",
    "                data_count = 0\n",
    "                for fd in file_data:\n",
    "                    kls, tls = fd[\"labels\"][\"kit_label\"], fd[\"labels\"][\"tech_label\"]\n",
    "                    kltls_arr = [\"-\".join([kls[i], tls[i]]) for i in range(len(kls))]\n",
    "                    kltls_arr.sort()\n",
    "                    kltls = set(kltls_arr)\n",
    "                    if (kc == kltls):\n",
    "                        data_count += 1\n",
    "                #print(\"Found {} : {}-{}\".format(data_count, kc))\n",
    "                overall_count[datatype][\"--\".join(list(kc))] = data_count"
   ]
  },
  {
   "cell_type": "code",
   "execution_count": 4,
   "metadata": {},
   "outputs": [
    {
     "data": {
      "text/plain": [
       "{'raw': {},\n",
       " 'cropped': {'bass_drum-normal': 0,\n",
       "  'crash-normal': 0,\n",
       "  'hi_hat-normal': 0,\n",
       "  'hi_hat-open': 0,\n",
       "  'high_tom-normal': 0,\n",
       "  'mid_tom-normal': 0,\n",
       "  'low_tom-normal': 0,\n",
       "  'ride-normal': 0,\n",
       "  'ride-bell': 0,\n",
       "  'snare-normal': 0},\n",
       " 'pre_multiclass_augmented': {'bass_drum-normal': 0,\n",
       "  'crash-normal': 0,\n",
       "  'hi_hat-normal': 0,\n",
       "  'hi_hat-open': 0,\n",
       "  'high_tom-normal': 0,\n",
       "  'mid_tom-normal': 0,\n",
       "  'low_tom-normal': 0,\n",
       "  'ride-normal': 0,\n",
       "  'ride-bell': 0,\n",
       "  'snare-normal': 0},\n",
       " 'multiclassed_per_aug': {},\n",
       " 'multiclassed_no_augs': {},\n",
       " 'multiclassed': {},\n",
       " 'post_multiclass_augmented': {},\n",
       " 'post_multiclass_augmented_no_pre': {},\n",
       " 'post_multiclass_augmented_per_pre': {},\n",
       " 'training': {'bass_drum-normal': 28926,\n",
       "  'crash-normal': 3214,\n",
       "  'hi_hat-normal': 3009,\n",
       "  'hi_hat-open': 3148,\n",
       "  'high_tom-normal': 3066,\n",
       "  'mid_tom-normal': 2993,\n",
       "  'low_tom-normal': 3215,\n",
       "  'ride-normal': 3061,\n",
       "  'ride-bell': 3063,\n",
       "  'snare-normal': 3049},\n",
       " 'validation': {'bass_drum-normal': 9642,\n",
       "  'crash-normal': 1069,\n",
       "  'hi_hat-normal': 1003,\n",
       "  'hi_hat-open': 1048,\n",
       "  'high_tom-normal': 1024,\n",
       "  'mid_tom-normal': 998,\n",
       "  'low_tom-normal': 1073,\n",
       "  'ride-normal': 1017,\n",
       "  'ride-bell': 1022,\n",
       "  'snare-normal': 1017},\n",
       " 'test': {'bass_drum-normal': 9646,\n",
       "  'crash-normal': 1068,\n",
       "  'hi_hat-normal': 1001,\n",
       "  'hi_hat-open': 1054,\n",
       "  'high_tom-normal': 1019,\n",
       "  'mid_tom-normal': 1000,\n",
       "  'low_tom-normal': 1073,\n",
       "  'ride-normal': 1023,\n",
       "  'ride-bell': 1014,\n",
       "  'snare-normal': 1015}}"
      ]
     },
     "execution_count": 4,
     "metadata": {},
     "output_type": "execute_result"
    }
   ],
   "source": [
    "overall_count"
   ]
  },
  {
   "cell_type": "markdown",
   "metadata": {},
   "source": [
    "132,243"
   ]
  },
  {
   "cell_type": "markdown",
   "metadata": {},
   "source": [
    "beater = 1046\n",
    "beater-stick & beater-stick-stick = 12760\n",
    "stick = 9267\n",
    "stick-stick = 15971"
   ]
  },
  {
   "cell_type": "code",
   "execution_count": 5,
   "metadata": {},
   "outputs": [],
   "source": [
    "b = 1046\n",
    "bs = 4229\n",
    "bss = 8531\n",
    "s = 9267\n",
    "ss = 15971"
   ]
  },
  {
   "cell_type": "code",
   "execution_count": 6,
   "metadata": {},
   "outputs": [
    {
     "name": "stdout",
     "output_type": "stream",
     "text": [
      "9414\n",
      "4229\n",
      "17062\n",
      "9267\n",
      "23956.5\n"
     ]
    }
   ],
   "source": [
    "print(b*9)\n",
    "print(bs)\n",
    "print(bss*2)\n",
    "print(s)\n",
    "print(ss*1.5)"
   ]
  },
  {
   "cell_type": "code",
   "execution_count": null,
   "metadata": {},
   "outputs": [],
   "source": []
  }
 ],
 "metadata": {
  "kernelspec": {
   "display_name": "Python 3",
   "language": "python",
   "name": "python3"
  },
  "language_info": {
   "codemirror_mode": {
    "name": "ipython",
    "version": 3
   },
   "file_extension": ".py",
   "mimetype": "text/x-python",
   "name": "python",
   "nbconvert_exporter": "python",
   "pygments_lexer": "ipython3",
   "version": "3.7.3"
  }
 },
 "nbformat": 4,
 "nbformat_minor": 2
}
