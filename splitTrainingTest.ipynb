{
 "cells": [
  {
   "cell_type": "code",
   "execution_count": 2,
   "metadata": {},
   "outputs": [
    {
     "name": "stdout",
     "output_type": "stream",
     "text": [
      "Attempting to read settings file...\n",
      "\tRead successfully!\n"
     ]
    }
   ],
   "source": [
    "import sys\n",
    "import os\n",
    "import zipfile\n",
    "import re\n",
    "import math\n",
    "from tqdm import tqdm_notebook\n",
    "\n",
    "# Allows me to import my modules\n",
    "sys.path.append('./modules')\n",
    "from audio_utils import *\n",
    "\n",
    "# A common split for data is 60% training, 20% validation and 20% testing to minimise error of training (too few training data) and error of testing (too few testing); data isn't used more than once to prevent overfitting.\n",
    "training, validation, test = 0.6, 0.2, 0.2\n",
    "d = math.gcd(math.gcd(int(training*100), int(validation*100)), int(test*100)) # Greatest common divisor of ^ *100\n",
    "training_bound, validation_bound, test_bound = training*100/d, validation*100/d, test*100/d\n",
    "s = training_bound + validation_bound + test_bound"
   ]
  },
  {
   "cell_type": "code",
   "execution_count": 3,
   "metadata": {},
   "outputs": [],
   "source": [
    "datatypes = [\"cropped_data\", \"multiclassed_data\", \"multiclassed_data_no_augs\", \"pre_multiclass_augmented_data\", \"post_multiclass_augmented_data\", \"post_multiclass_augmented_data_no_pre\"]"
   ]
  },
  {
   "cell_type": "code",
   "execution_count": 7,
   "metadata": {},
   "outputs": [
    {
     "name": "stdout",
     "output_type": "stream",
     "text": [
      "cropped_data_0_2019-02-25.zip\n",
      "Openned archive.\n",
      "cropped_data_0_2019-03-19.zip\n",
      "Openned archive.\n",
      "multiclassed_data_0_2019-02-25.zip\n",
      "Openned archive.\n",
      "multiclassed_data_0_2019-03-19.zip\n",
      "Openned archive.\n",
      "multiclassed_data_no_augs_0_2019-02-25.zip\n",
      "Openned archive.\n",
      "multiclassed_data_no_augs_0_2019-03-19.zip\n",
      "Openned archive.\n",
      "post_multiclass_augmented_data_0_2019-03-07.zip\n",
      "Openned archive.\n",
      "post_multiclass_augmented_data_2_2019-03-19.zip\n",
      "Openned archive.\n",
      "post_multiclass_augmented_data_no_pre_0_2019-04-16.zip\n",
      "Openned archive.\n",
      "pre_multiclass_augmented_data_0_2019-02-25.zip\n",
      "Openned archive.\n",
      "pre_multiclass_augmented_data_0_2019-03-27.zip\n",
      "Openned archive.\n"
     ]
    }
   ],
   "source": [
    "zip_dir = os.path.join(os.getcwd(), \"zipped_data\")\n",
    "zip_archives = os.listdir(zip_dir)\n",
    "for archive in zip_archives:\n",
    "    archive_type = \"_\".join(archive.split(\"_\")[:-2])\n",
    "    if archive_type in datatypes:\n",
    "        print(archive)\n",
    "        try:\n",
    "            with zipfile.ZipFile(os.path.join(zip_dir, archive), mode=\"r\") as archive:\n",
    "                print(\"Openned archive.\")\n",
    "        except:\n",
    "            print(\"Failed to open archive.\")\n",
    "        "
   ]
  },
  {
   "cell_type": "code",
   "execution_count": 9,
   "metadata": {
    "scrolled": false
   },
   "outputs": [
    {
     "data": {
      "application/vnd.jupyter.widget-view+json": {
       "model_id": "89d176f060824327998f68c29790ff82",
       "version_major": 2,
       "version_minor": 0
      },
      "text/plain": [
       "HBox(children=(IntProgress(value=0, description='Reading archives', max=18, style=ProgressStyle(description_wi…"
      ]
     },
     "metadata": {},
     "output_type": "display_data"
    },
    {
     "name": "stdout",
     "output_type": "stream",
     "text": [
      "Current archive: <zipfile.ZipFile filename='D:\\\\Documents\\\\University\\\\Year3\\\\Independant Studies\\\\zipped_data\\\\cropped_data_0_2019-02-25.zip' mode='r'>\n"
     ]
    },
    {
     "data": {
      "application/vnd.jupyter.widget-view+json": {
       "model_id": "8ada2c8e203745be8ac9b10661660724",
       "version_major": 2,
       "version_minor": 0
      },
      "text/plain": [
       "HBox(children=(IntProgress(value=0, description='Files extracted', max=922, style=ProgressStyle(description_wi…"
      ]
     },
     "metadata": {},
     "output_type": "display_data"
    },
    {
     "name": "stdout",
     "output_type": "stream",
     "text": [
      "Current archive: <zipfile.ZipFile filename='D:\\\\Documents\\\\University\\\\Year3\\\\Independant Studies\\\\zipped_data\\\\cropped_data_0_2019-03-19.zip' mode='r'>\n"
     ]
    },
    {
     "data": {
      "application/vnd.jupyter.widget-view+json": {
       "model_id": "4390713ae8af4ca1a5185960f56822ce",
       "version_major": 2,
       "version_minor": 0
      },
      "text/plain": [
       "HBox(children=(IntProgress(value=0, description='Files extracted', max=147, style=ProgressStyle(description_wi…"
      ]
     },
     "metadata": {},
     "output_type": "display_data"
    },
    {
     "name": "stdout",
     "output_type": "stream",
     "text": [
      "Current archive: <zipfile.ZipFile filename='D:\\\\Documents\\\\University\\\\Year3\\\\Independant Studies\\\\zipped_data\\\\multiclassed_data_0_2019-02-25.zip' mode='r'>\n"
     ]
    },
    {
     "data": {
      "application/vnd.jupyter.widget-view+json": {
       "model_id": "b73d87fbaa524b87ab84337a9be07838",
       "version_major": 2,
       "version_minor": 0
      },
      "text/plain": [
       "HBox(children=(IntProgress(value=0, description='Files extracted', max=5992, style=ProgressStyle(description_w…"
      ]
     },
     "metadata": {},
     "output_type": "display_data"
    },
    {
     "name": "stdout",
     "output_type": "stream",
     "text": [
      "Current archive: <zipfile.ZipFile filename='D:\\\\Documents\\\\University\\\\Year3\\\\Independant Studies\\\\zipped_data\\\\multiclassed_data_0_2019-03-19.zip' mode='r'>\n"
     ]
    },
    {
     "data": {
      "application/vnd.jupyter.widget-view+json": {
       "model_id": "222f401adc2e46c791fdd101a5f84fbd",
       "version_major": 2,
       "version_minor": 0
      },
      "text/plain": [
       "HBox(children=(IntProgress(value=0, description='Files extracted', max=2697, style=ProgressStyle(description_w…"
      ]
     },
     "metadata": {},
     "output_type": "display_data"
    },
    {
     "name": "stdout",
     "output_type": "stream",
     "text": [
      "Current archive: <zipfile.ZipFile filename='D:\\\\Documents\\\\University\\\\Year3\\\\Independant Studies\\\\zipped_data\\\\multiclassed_data_no_augs_0_2019-02-25.zip' mode='r'>\n"
     ]
    },
    {
     "data": {
      "application/vnd.jupyter.widget-view+json": {
       "model_id": "9f6c15f095ba49058081c74b80a75975",
       "version_major": 2,
       "version_minor": 0
      },
      "text/plain": [
       "HBox(children=(IntProgress(value=0, description='Files extracted', max=107, style=ProgressStyle(description_wi…"
      ]
     },
     "metadata": {},
     "output_type": "display_data"
    },
    {
     "name": "stdout",
     "output_type": "stream",
     "text": [
      "Current archive: <zipfile.ZipFile filename='D:\\\\Documents\\\\University\\\\Year3\\\\Independant Studies\\\\zipped_data\\\\multiclassed_data_no_augs_0_2019-03-19.zip' mode='r'>\n"
     ]
    },
    {
     "data": {
      "application/vnd.jupyter.widget-view+json": {
       "model_id": "53368d7e4d1a4dff88728889e00c05ad",
       "version_major": 2,
       "version_minor": 0
      },
      "text/plain": [
       "HBox(children=(IntProgress(value=0, description='Files extracted', max=87, style=ProgressStyle(description_wid…"
      ]
     },
     "metadata": {},
     "output_type": "display_data"
    },
    {
     "name": "stdout",
     "output_type": "stream",
     "text": [
      "Current archive: <zipfile.ZipFile filename='D:\\\\Documents\\\\University\\\\Year3\\\\Independant Studies\\\\zipped_data\\\\post_multiclass_augmented_data_0_2019-03-07.zip' mode='r'>\n"
     ]
    },
    {
     "data": {
      "application/vnd.jupyter.widget-view+json": {
       "model_id": "7da190b8c27c496cb0bc7ba0e9d818e1",
       "version_major": 2,
       "version_minor": 0
      },
      "text/plain": [
       "HBox(children=(IntProgress(value=0, description='Files extracted', max=116760, style=ProgressStyle(description…"
      ]
     },
     "metadata": {},
     "output_type": "display_data"
    },
    {
     "name": "stdout",
     "output_type": "stream",
     "text": [
      "Current archive: <zipfile.ZipFile filename='D:\\\\Documents\\\\University\\\\Year3\\\\Independant Studies\\\\zipped_data\\\\post_multiclass_augmented_data_2_2019-03-19.zip' mode='r'>\n"
     ]
    },
    {
     "data": {
      "application/vnd.jupyter.widget-view+json": {
       "model_id": "2e634da367924ccd987fe0558ccbbc47",
       "version_major": 2,
       "version_minor": 0
      },
      "text/plain": [
       "HBox(children=(IntProgress(value=0, description='Files extracted', max=76520, style=ProgressStyle(description_…"
      ]
     },
     "metadata": {},
     "output_type": "display_data"
    },
    {
     "name": "stdout",
     "output_type": "stream",
     "text": [
      "Current archive: <zipfile.ZipFile filename='D:\\\\Documents\\\\University\\\\Year3\\\\Independant Studies\\\\zipped_data\\\\post_multiclass_augmented_data_no_pre_0_2019-04-16.zip' mode='r'>\n"
     ]
    },
    {
     "data": {
      "application/vnd.jupyter.widget-view+json": {
       "model_id": "fc3362a407714244b27659d6ff8893a6",
       "version_major": 2,
       "version_minor": 0
      },
      "text/plain": [
       "HBox(children=(IntProgress(value=0, description='Files extracted', max=2140, style=ProgressStyle(description_w…"
      ]
     },
     "metadata": {},
     "output_type": "display_data"
    },
    {
     "name": "stdout",
     "output_type": "stream",
     "text": [
      "Current archive: <zipfile.ZipFile filename='D:\\\\Documents\\\\University\\\\Year3\\\\Independant Studies\\\\zipped_data\\\\pre_multiclass_augmented_data_0_2019-02-25.zip' mode='r'>\n"
     ]
    },
    {
     "data": {
      "application/vnd.jupyter.widget-view+json": {
       "model_id": "276b7118c8ef416f8d4c67304a3e82f1",
       "version_major": 2,
       "version_minor": 0
      },
      "text/plain": [
       "HBox(children=(IntProgress(value=0, description='Files extracted', max=13640, style=ProgressStyle(description_…"
      ]
     },
     "metadata": {},
     "output_type": "display_data"
    },
    {
     "name": "stdout",
     "output_type": "stream",
     "text": [
      "Current archive: <zipfile.ZipFile filename='D:\\\\Documents\\\\University\\\\Year3\\\\Independant Studies\\\\zipped_data\\\\pre_multiclass_augmented_data_0_2019-03-27.zip' mode='r'>\n"
     ]
    },
    {
     "data": {
      "application/vnd.jupyter.widget-view+json": {
       "model_id": "051ab3124b1a4b5289cfae7ca536b1e7",
       "version_major": 2,
       "version_minor": 0
      },
      "text/plain": [
       "HBox(children=(IntProgress(value=0, description='Files extracted', max=18228, style=ProgressStyle(description_…"
      ]
     },
     "metadata": {},
     "output_type": "display_data"
    },
    {
     "name": "stdout",
     "output_type": "stream",
     "text": [
      "\n"
     ]
    }
   ],
   "source": [
    "i = 0\n",
    "zip_dir = os.path.join(os.getcwd(), \"zipped_data\")\n",
    "zip_archives = os.listdir(zip_dir)\n",
    "for archive in tqdm_notebook(zip_archives, total=len(zip_archives), desc=\"Reading archives\"):\n",
    "    archive_type = \"_\".join(archive.split(\"_\")[:-2])\n",
    "    if archive_type in datatypes:\n",
    "        try:\n",
    "            with zipfile.ZipFile(os.path.join(zip_dir, archive), mode=\"r\") as archive:\n",
    "                print(\"Current archive: {}\".format(archive))\n",
    "                archive_files = list(filter(lambda x: \".\" in re.split(\"\\/\", x.filename)[-1], archive.infolist()))\n",
    "                for fileinfo in tqdm_notebook(archive_files, total=len(archive_files), desc=\"Files extracted\"):\n",
    "                    # Choosing data_set between \"training\", \"validation\" & \"test\".\n",
    "                    data_set = \"training_data\"\n",
    "                    if (training_bound <= i%s and (training_bound+validation_bound) > i%s):\n",
    "                        data_set = \"validation_data\"\n",
    "                    elif ((training_bound+validation_bound) <= i%s):\n",
    "                        data_set = \"test_data\"\n",
    "                    target_path = os.path.join(os.getcwd(), \"audio_data\", data_set)\n",
    "                    path_components = re.split(\"\\/\", fileinfo.filename)\n",
    "                    hlkltl = path_components[-4:-1]\n",
    "                    if (\".\" in path_components[-1]):\n",
    "                        uid, ext = path_components[-1].split(\".\")\n",
    "                        fp = os.path.join(target_path, *hlkltl, uid+\".\"+ext)\n",
    "                        subdirs = os.path.join(target_path, *hlkltl)\n",
    "                        if not os.path.exists(subdirs):\n",
    "                            os.makedirs(subdirs)\n",
    "                        while (os.path.exists(fp)):\n",
    "                            uid = str(int(uid)+1)\n",
    "                            fp = os.path.join(target_path, *hlkltl, uid+\".\"+ext)\n",
    "                        data = archive.read(fileinfo)\n",
    "                        with open(fp, \"wb\") as write_location:\n",
    "                            write_location.write(data)\n",
    "                        i += 1\n",
    "                    else:\n",
    "                        continue\n",
    "        except:\n",
    "            print(*sys.exc_info())"
   ]
  },
  {
   "cell_type": "code",
   "execution_count": null,
   "metadata": {},
   "outputs": [],
   "source": []
  }
 ],
 "metadata": {
  "kernelspec": {
   "display_name": "Python 3",
   "language": "python",
   "name": "python3"
  },
  "language_info": {
   "codemirror_mode": {
    "name": "ipython",
    "version": 3
   },
   "file_extension": ".py",
   "mimetype": "text/x-python",
   "name": "python",
   "nbconvert_exporter": "python",
   "pygments_lexer": "ipython3",
   "version": "3.7.3"
  }
 },
 "nbformat": 4,
 "nbformat_minor": 2
}
