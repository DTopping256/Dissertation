{
 "cells": [
  {
   "cell_type": "code",
   "execution_count": 3,
   "metadata": {},
   "outputs": [],
   "source": [
    "import sys\n",
    "import zipfile\n",
    "\n",
    "# Allows me to import my modules\n",
    "sys.path.append('./modules')\n",
    "from audio_utils import *\n",
    "\n",
    "# A common split for data is 70% training and 30% testing to minimise error of training (too few training data) and error of testing (too few testing); data isn't used more than once to prevent overfitting.\n",
    "training, test = 0.7, 0.3"
   ]
  },
  {
   "cell_type": "code",
   "execution_count": 2,
   "metadata": {},
   "outputs": [],
   "source": [
    "datatypes = [\"cropped\", \"multiclassed_data\", \"multiclassed_no_augs\", \"pre_multiclass_augmented\", \"post_multiclass_augmented\", \"post_multiclass_augmented_no_pre\"]"
   ]
  },
  {
   "cell_type": "code",
   "execution_count": 9,
   "metadata": {},
   "outputs": [
    {
     "name": "stdout",
     "output_type": "stream",
     "text": [
      "(<class 'FileNotFoundError'>, FileNotFoundError(2, 'No such file or directory'), <traceback object at 0x000001F0DD73A588>)\n",
      "(<class 'FileNotFoundError'>, FileNotFoundError(2, 'No such file or directory'), <traceback object at 0x000001F0DD76EA88>)\n"
     ]
    }
   ],
   "source": [
    "i = 0\n",
    "for archive_filepath in os.listdir(os.path.join(os.getcwd(), \"zipped_data\")):\n",
    "    if archive_filepath[:-17] in datatypes:\n",
    "        try:\n",
    "            with zipfile.ZipFile(archive_filepath, mode=\"r\") as archive:\n",
    "                for filepath in archive.namelist():\n",
    "                    target_path = [os.getcwd(), \"audio_data\", \"training\" if i%10 < training*10 else \"test\"]\n",
    "                    path_components = os.path.split(filepath)\n",
    "                    hlkltl = path_components[-4:-1]\n",
    "                    uid, ext = path_components[-1].split(\".\")\n",
    "                    fp = os.path.join(*target_path, *hlkltl, uid+\".\"+ext)\n",
    "                    subdirs = os.path.join(*target_path, *hlkltl)\n",
    "                    if not os.path.exists(subdirs):\n",
    "                        os.makedirs(subdirs)\n",
    "                    while (os.path.exists(fp)):\n",
    "                        uid = str(int(uid)+1)\n",
    "                        fp = os.path.join(*target_path, *hlkltl, uid+\".\"+ext)\n",
    "                    data = archive.read(filepath)\n",
    "                    with open(fp, \"wb\") as write_location:\n",
    "                        write_location.write(data)\n",
    "        except:\n",
    "            print(*sys.exc_info())"
   ]
  },
  {
   "cell_type": "code",
   "execution_count": 8,
   "metadata": {},
   "outputs": [
    {
     "data": {
      "text/plain": [
       "['cropped_data',\n",
       " 'multiclassed_data',\n",
       " 'multiclassed_data_no_augs',\n",
       " 'multiclassed_data_per_aug',\n",
       " 'post-multiclass_augmented',\n",
       " 'post-multiclass_augmented_data_no_pre',\n",
       " 'post-multiclass_augmented_data_per_pre',\n",
       " 'post_multiclass_augmented',\n",
       " 'post_multiclass_augmented_per_pre',\n",
       " 'pre-multiclass_augmented_data',\n",
       " 'raw',\n",
       " 'raw',\n",
       " 'raw']"
      ]
     },
     "execution_count": 8,
     "metadata": {},
     "output_type": "execute_result"
    }
   ],
   "source": [
    "list(map(lambda x: x[:-17], os.listdir(os.path.join(os.getcwd(), \"zipped_data\"))))"
   ]
  },
  {
   "cell_type": "code",
   "execution_count": null,
   "metadata": {},
   "outputs": [],
   "source": []
  }
 ],
 "metadata": {
  "kernelspec": {
   "display_name": "Python 3",
   "language": "python",
   "name": "python3"
  },
  "language_info": {
   "codemirror_mode": {
    "name": "ipython",
    "version": 3
   },
   "file_extension": ".py",
   "mimetype": "text/x-python",
   "name": "python",
   "nbconvert_exporter": "python",
   "pygments_lexer": "ipython3",
   "version": "3.5.1"
  }
 },
 "nbformat": 4,
 "nbformat_minor": 2
}
