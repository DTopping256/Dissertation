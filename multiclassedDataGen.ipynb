{
 "cells": [
  {
   "cell_type": "code",
   "execution_count": 3,
   "metadata": {},
   "outputs": [
    {
     "name": "stdout",
     "output_type": "stream",
     "text": [
      "Attempting to read settings file...\n",
      "\tRead successfully!\n"
     ]
    }
   ],
   "source": [
    "import matplotlib.pyplot as plt\n",
    "import IPython.display as ipd\n",
    "import numpy as np\n",
    "import sys\n",
    "import time\n",
    "from itertools import combinations\n",
    "from functools import reduce\n",
    "import constraint as c \n",
    "\n",
    "# Allows me to import my modules\n",
    "sys.path.append('./modules')\n",
    "from audio_utils import *"
   ]
  },
  {
   "cell_type": "code",
   "execution_count": 28,
   "metadata": {},
   "outputs": [],
   "source": [
    "augmented_fd = get_file_classes(\"pre_multiclass_augmented\")"
   ]
  },
  {
   "cell_type": "code",
   "execution_count": 29,
   "metadata": {},
   "outputs": [],
   "source": [
    "cropped_fd = get_file_classes(\"cropped\")"
   ]
  },
  {
   "cell_type": "code",
   "execution_count": 30,
   "metadata": {},
   "outputs": [
    {
     "name": "stdout",
     "output_type": "stream",
     "text": [
      "cropped amount: 922 \tpre_auged amount: 13640\n"
     ]
    }
   ],
   "source": [
    "print(\"cropped amount:\", len(cropped_fd), \"\\tpre_auged amount:\", len(augmented_fd))"
   ]
  },
  {
   "cell_type": "code",
   "execution_count": 5,
   "metadata": {},
   "outputs": [
    {
     "data": {
      "text/plain": [
       "{'augmentations': {},\n",
       " 'filepath': 'audio_data\\\\cropped_data\\\\beater\\\\bass_drum\\\\normal\\\\0.gz',\n",
       " 'labels': {'hit_label': ['beater'],\n",
       "  'kit_label': ['bass_drum'],\n",
       "  'tech_label': ['normal']}}"
      ]
     },
     "execution_count": 5,
     "metadata": {},
     "output_type": "execute_result"
    }
   ],
   "source": [
    "cropped_fd[0]"
   ]
  },
  {
   "cell_type": "code",
   "execution_count": 6,
   "metadata": {},
   "outputs": [
    {
     "data": {
      "text/plain": [
       "{'augmentations': {'pre_augs': ['amplitude']},\n",
       " 'filepath': 'audio_data\\\\pre-multiclass_augmented_data\\\\amplitude\\\\beater\\\\bass_drum\\\\normal\\\\0.gz',\n",
       " 'labels': {'hit_label': ['beater'],\n",
       "  'kit_label': ['bass_drum'],\n",
       "  'tech_label': ['normal']}}"
      ]
     },
     "execution_count": 6,
     "metadata": {},
     "output_type": "execute_result"
    }
   ],
   "source": [
    "augmented_fd[0]"
   ]
  },
  {
   "cell_type": "code",
   "execution_count": 7,
   "metadata": {},
   "outputs": [],
   "source": [
    "sample_data = {kit_label: [] for kit_label in SETTINGS.label[\"kit_label\"]}\n",
    "for fd in cropped_fd+augmented_fd:\n",
    "    for kl in sample_data.keys():\n",
    "        if (kl in fd[\"labels\"][\"kit_label\"]):\n",
    "            sample_data[kl].append(fd)"
   ]
  },
  {
   "cell_type": "code",
   "execution_count": 8,
   "metadata": {},
   "outputs": [
    {
     "data": {
      "text/plain": [
       "[{'augmentations': {},\n",
       "  'filepath': 'audio_data\\\\cropped_data\\\\beater\\\\bass_drum\\\\normal\\\\0.gz',\n",
       "  'labels': {'hit_label': ['beater'],\n",
       "   'kit_label': ['bass_drum'],\n",
       "   'tech_label': ['normal']}},\n",
       " {'augmentations': {},\n",
       "  'filepath': 'audio_data\\\\cropped_data\\\\beater\\\\bass_drum\\\\normal\\\\1.gz',\n",
       "  'labels': {'hit_label': ['beater'],\n",
       "   'kit_label': ['bass_drum'],\n",
       "   'tech_label': ['normal']}}]"
      ]
     },
     "execution_count": 8,
     "metadata": {},
     "output_type": "execute_result"
    }
   ],
   "source": [
    "sample_data[\"bass_drum\"][:2]"
   ]
  },
  {
   "cell_type": "code",
   "execution_count": 9,
   "metadata": {},
   "outputs": [],
   "source": [
    "samples = np.zeros(12000, dtype=np.float)"
   ]
  },
  {
   "cell_type": "code",
   "execution_count": 4,
   "metadata": {},
   "outputs": [],
   "source": [
    "hit_breakdown = {hl: [] for hl in SETTINGS.label[\"hit_label\"]}\n",
    "for hl in SETTINGS.label[\"hit_label\"]:\n",
    "    for kl in SETTINGS.hierarchy[hl].keys():\n",
    "        for tl in SETTINGS.hierarchy[hl][kl]:\n",
    "            hit_breakdown[hl].append(\"-\".join([kl, tl]))"
   ]
  },
  {
   "cell_type": "code",
   "execution_count": 5,
   "metadata": {},
   "outputs": [
    {
     "data": {
      "text/plain": [
       "{'beater': ['bass_drum-normal'],\n",
       " 'stick': ['hi_hat-normal',\n",
       "  'hi_hat-open',\n",
       "  'ride-normal',\n",
       "  'ride-bell',\n",
       "  'high_tom-normal',\n",
       "  'mid_tom-normal',\n",
       "  'crash-normal',\n",
       "  'low_tom-normal',\n",
       "  'snare-normal',\n",
       "  'splash-normal']}"
      ]
     },
     "execution_count": 5,
     "metadata": {},
     "output_type": "execute_result"
    }
   ],
   "source": [
    "hit_breakdown"
   ]
  },
  {
   "cell_type": "code",
   "execution_count": 45,
   "metadata": {},
   "outputs": [],
   "source": [
    "def unique_kit_class(*ts):\n",
    "    current_kt = ts[0].split(\"-\")[0]\n",
    "    for t in ts[1:]:\n",
    "        kt = t.split(\"-\")[0]\n",
    "        if kt == current_kt:\n",
    "            return False\n",
    "    return True"
   ]
  },
  {
   "cell_type": "code",
   "execution_count": 7,
   "metadata": {},
   "outputs": [
    {
     "data": {
      "text/plain": [
       "[{'beater': 'bass_drum-normal'}]"
      ]
     },
     "execution_count": 7,
     "metadata": {},
     "output_type": "execute_result"
    }
   ],
   "source": [
    "prob = c.Problem()\n",
    "prob.addVariable(\"beater\", hit_breakdown[\"beater\"])\n",
    "prob.getSolutions()"
   ]
  },
  {
   "cell_type": "code",
   "execution_count": 8,
   "metadata": {},
   "outputs": [
    {
     "data": {
      "text/plain": [
       "[{'stick': 'splash-normal'},\n",
       " {'stick': 'snare-normal'},\n",
       " {'stick': 'low_tom-normal'},\n",
       " {'stick': 'crash-normal'},\n",
       " {'stick': 'mid_tom-normal'},\n",
       " {'stick': 'high_tom-normal'},\n",
       " {'stick': 'ride-bell'},\n",
       " {'stick': 'ride-normal'},\n",
       " {'stick': 'hi_hat-open'},\n",
       " {'stick': 'hi_hat-normal'}]"
      ]
     },
     "execution_count": 8,
     "metadata": {},
     "output_type": "execute_result"
    }
   ],
   "source": [
    "prob = c.Problem()\n",
    "prob.addVariable(\"stick\", hit_breakdown[\"stick\"])\n",
    "prob.getSolutions()"
   ]
  },
  {
   "cell_type": "code",
   "execution_count": 24,
   "metadata": {},
   "outputs": [
    {
     "data": {
      "text/plain": [
       "[{'beater': 'bass_drum-normal', 'stick': 'splash-normal'},\n",
       " {'beater': 'bass_drum-normal', 'stick': 'snare-normal'},\n",
       " {'beater': 'bass_drum-normal', 'stick': 'low_tom-normal'},\n",
       " {'beater': 'bass_drum-normal', 'stick': 'crash-normal'},\n",
       " {'beater': 'bass_drum-normal', 'stick': 'mid_tom-normal'},\n",
       " {'beater': 'bass_drum-normal', 'stick': 'high_tom-normal'},\n",
       " {'beater': 'bass_drum-normal', 'stick': 'ride-bell'},\n",
       " {'beater': 'bass_drum-normal', 'stick': 'ride-normal'},\n",
       " {'beater': 'bass_drum-normal', 'stick': 'hi_hat-open'},\n",
       " {'beater': 'bass_drum-normal', 'stick': 'hi_hat-normal'}]"
      ]
     },
     "execution_count": 24,
     "metadata": {},
     "output_type": "execute_result"
    }
   ],
   "source": [
    "prob = c.Problem()\n",
    "prob.addVariable(\"beater\", hit_breakdown[\"beater\"])\n",
    "prob.addVariable(\"stick\", hit_breakdown[\"stick\"])\n",
    "prob.getSolutions()"
   ]
  },
  {
   "cell_type": "code",
   "execution_count": 23,
   "metadata": {},
   "outputs": [
    {
     "name": "stdout",
     "output_type": "stream",
     "text": [
      "43 [{'splash-normal', 'snare-normal'}, {'splash-normal', 'low_tom-normal'}, {'splash-normal', 'crash-normal'}, {'splash-normal', 'mid_tom-normal'}, {'splash-normal', 'high_tom-normal'}, {'splash-normal', 'ride-bell'}, {'splash-normal', 'ride-normal'}, {'splash-normal', 'hi_hat-open'}, {'splash-normal', 'hi_hat-normal'}, {'low_tom-normal', 'snare-normal'}, {'crash-normal', 'snare-normal'}, {'snare-normal', 'mid_tom-normal'}, {'high_tom-normal', 'snare-normal'}, {'snare-normal', 'ride-bell'}, {'ride-normal', 'snare-normal'}, {'snare-normal', 'hi_hat-open'}, {'hi_hat-normal', 'snare-normal'}, {'low_tom-normal', 'crash-normal'}, {'low_tom-normal', 'mid_tom-normal'}, {'low_tom-normal', 'high_tom-normal'}, {'low_tom-normal', 'ride-bell'}, {'low_tom-normal', 'ride-normal'}, {'low_tom-normal', 'hi_hat-open'}, {'low_tom-normal', 'hi_hat-normal'}, {'crash-normal', 'mid_tom-normal'}, {'high_tom-normal', 'crash-normal'}, {'crash-normal', 'ride-bell'}, {'ride-normal', 'crash-normal'}, {'crash-normal', 'hi_hat-open'}, {'hi_hat-normal', 'crash-normal'}, {'high_tom-normal', 'mid_tom-normal'}, {'mid_tom-normal', 'ride-bell'}, {'ride-normal', 'mid_tom-normal'}, {'mid_tom-normal', 'hi_hat-open'}, {'hi_hat-normal', 'mid_tom-normal'}, {'high_tom-normal', 'ride-bell'}, {'ride-normal', 'high_tom-normal'}, {'high_tom-normal', 'hi_hat-open'}, {'hi_hat-normal', 'high_tom-normal'}, {'ride-bell', 'hi_hat-open'}, {'hi_hat-normal', 'ride-bell'}, {'ride-normal', 'hi_hat-open'}, {'hi_hat-normal', 'ride-normal'}]\n"
     ]
    }
   ],
   "source": [
    "prob = c.Problem()\n",
    "prob.addVariables([\"stickA\", \"stickB\"], hit_breakdown[\"stick\"])\n",
    "# Kit type contraint (they must be unique)\n",
    "prob.addConstraint(unique_kit_class)\n",
    "double_stick_combo = list(reduce(lambda acc, x: [*acc, set(x.values())] if set(x.values()) not in acc else acc, prob.getSolutions(), []))\n",
    "print(len(double_stick_combo), double_stick_combo)"
   ]
  },
  {
   "cell_type": "code",
   "execution_count": 25,
   "metadata": {},
   "outputs": [
    {
     "name": "stdout",
     "output_type": "stream",
     "text": [
      "43 [{'bass_drum-normal', 'snare-normal', 'splash-normal'}, {'bass_drum-normal', 'low_tom-normal', 'splash-normal'}, {'bass_drum-normal', 'crash-normal', 'splash-normal'}, {'bass_drum-normal', 'mid_tom-normal', 'splash-normal'}, {'bass_drum-normal', 'high_tom-normal', 'splash-normal'}, {'bass_drum-normal', 'splash-normal', 'ride-bell'}, {'bass_drum-normal', 'ride-normal', 'splash-normal'}, {'bass_drum-normal', 'splash-normal', 'hi_hat-open'}, {'bass_drum-normal', 'hi_hat-normal', 'splash-normal'}, {'bass_drum-normal', 'low_tom-normal', 'snare-normal'}, {'bass_drum-normal', 'crash-normal', 'snare-normal'}, {'bass_drum-normal', 'snare-normal', 'mid_tom-normal'}, {'bass_drum-normal', 'high_tom-normal', 'snare-normal'}, {'bass_drum-normal', 'snare-normal', 'ride-bell'}, {'bass_drum-normal', 'ride-normal', 'snare-normal'}, {'bass_drum-normal', 'snare-normal', 'hi_hat-open'}, {'bass_drum-normal', 'hi_hat-normal', 'snare-normal'}, {'bass_drum-normal', 'low_tom-normal', 'crash-normal'}, {'bass_drum-normal', 'low_tom-normal', 'mid_tom-normal'}, {'bass_drum-normal', 'low_tom-normal', 'high_tom-normal'}, {'bass_drum-normal', 'low_tom-normal', 'ride-bell'}, {'bass_drum-normal', 'low_tom-normal', 'ride-normal'}, {'bass_drum-normal', 'low_tom-normal', 'hi_hat-open'}, {'bass_drum-normal', 'low_tom-normal', 'hi_hat-normal'}, {'bass_drum-normal', 'crash-normal', 'mid_tom-normal'}, {'bass_drum-normal', 'high_tom-normal', 'crash-normal'}, {'bass_drum-normal', 'crash-normal', 'ride-bell'}, {'bass_drum-normal', 'ride-normal', 'crash-normal'}, {'bass_drum-normal', 'crash-normal', 'hi_hat-open'}, {'bass_drum-normal', 'hi_hat-normal', 'crash-normal'}, {'bass_drum-normal', 'high_tom-normal', 'mid_tom-normal'}, {'bass_drum-normal', 'mid_tom-normal', 'ride-bell'}, {'bass_drum-normal', 'ride-normal', 'mid_tom-normal'}, {'bass_drum-normal', 'mid_tom-normal', 'hi_hat-open'}, {'bass_drum-normal', 'hi_hat-normal', 'mid_tom-normal'}, {'bass_drum-normal', 'high_tom-normal', 'ride-bell'}, {'bass_drum-normal', 'ride-normal', 'high_tom-normal'}, {'bass_drum-normal', 'high_tom-normal', 'hi_hat-open'}, {'bass_drum-normal', 'hi_hat-normal', 'high_tom-normal'}, {'bass_drum-normal', 'ride-bell', 'hi_hat-open'}, {'bass_drum-normal', 'hi_hat-normal', 'ride-bell'}, {'bass_drum-normal', 'ride-normal', 'hi_hat-open'}, {'bass_drum-normal', 'hi_hat-normal', 'ride-normal'}]\n"
     ]
    }
   ],
   "source": [
    "prob = c.Problem()\n",
    "prob.addVariable(\"beater\", hit_breakdown[\"beater\"])\n",
    "prob.addVariables([\"stickA\", \"stickB\"], hit_breakdown[\"stick\"])\n",
    "# Kit type contraint (they must be unique)\n",
    "prob.addConstraint(unique_kit_class)\n",
    "double_stick_combo = list(reduce(lambda acc, x: [*acc, set(x.values())] if set(x.values()) not in acc else acc, prob.getSolutions(), []))\n",
    "print(len(double_stick_combo), double_stick_combo)"
   ]
  },
  {
   "cell_type": "code",
   "execution_count": 48,
   "metadata": {},
   "outputs": [],
   "source": [
    "def kit_combinations(fd):\n",
    "    hit_combos = SETTINGS.data[\"multiclassed\"][\"hit_combinations\"]\n",
    "    hit_breakdown = {hl: [] for hl in SETTINGS.label[\"hit_label\"]}\n",
    "    for hl in SETTINGS.label[\"hit_label\"]:\n",
    "        for kl in SETTINGS.hierarchy[hl].keys():\n",
    "            for tl in SETTINGS.hierarchy[hl][kl]:\n",
    "                hit_breakdown[hl].append(\"-\".join([kl, tl]))\n",
    "    kit_combos = []\n",
    "    for hc in hit_combos:\n",
    "        prob = c.Problem()\n",
    "        var_i = 0\n",
    "        for ht in hc:\n",
    "            prob.addVariable(str(var_i), hit_breakdown[ht])\n",
    "            var_i += 1\n",
    "        # Kit type contraint (they must be unique)\n",
    "        prob.addConstraint(unique_kit_class)\n",
    "        # Remove permutations of hits\n",
    "        kit_combo_subset = list(reduce(lambda acc, x: [*acc, set(x.values())] if set(x.values()) not in acc else acc, prob.getSolutions(), []))\n",
    "        for subset in kit_combo_subset:\n",
    "            kit_combos.append(subset)\n",
    "    return kit_combos"
   ]
  },
  {
   "cell_type": "code",
   "execution_count": 49,
   "metadata": {},
   "outputs": [],
   "source": [
    "kcs = kit_combinations(cropped_fd)"
   ]
  },
  {
   "cell_type": "code",
   "execution_count": 51,
   "metadata": {},
   "outputs": [],
   "source": [
    "kttt_count = {}\n",
    "for kttt in hit_breakdown[\"beater\"]+hit_breakdown[\"stick\"]:\n",
    "    count = 0\n",
    "    for kc in kcs:\n",
    "        if kttt in kc:\n",
    "            count += 1\n",
    "    kttt_count[kttt] = count"
   ]
  },
  {
   "cell_type": "code",
   "execution_count": 52,
   "metadata": {},
   "outputs": [
    {
     "data": {
      "text/plain": [
       "{'bass_drum-normal': 54,\n",
       " 'crash-normal': 20,\n",
       " 'hi_hat-normal': 18,\n",
       " 'hi_hat-open': 18,\n",
       " 'high_tom-normal': 20,\n",
       " 'low_tom-normal': 20,\n",
       " 'mid_tom-normal': 20,\n",
       " 'ride-bell': 18,\n",
       " 'ride-normal': 18,\n",
       " 'snare-normal': 20,\n",
       " 'splash-normal': 20}"
      ]
     },
     "execution_count": 52,
     "metadata": {},
     "output_type": "execute_result"
    }
   ],
   "source": [
    "kttt_count"
   ]
  },
  {
   "cell_type": "code",
   "execution_count": 54,
   "metadata": {},
   "outputs": [
    {
     "name": "stdout",
     "output_type": "stream",
     "text": [
      "107\n"
     ]
    },
    {
     "data": {
      "text/plain": [
       "[{'bass_drum-normal'},\n",
       " {'splash-normal'},\n",
       " {'snare-normal'},\n",
       " {'low_tom-normal'},\n",
       " {'crash-normal'},\n",
       " {'mid_tom-normal'},\n",
       " {'high_tom-normal'},\n",
       " {'ride-bell'},\n",
       " {'ride-normal'},\n",
       " {'hi_hat-open'},\n",
       " {'hi_hat-normal'},\n",
       " {'bass_drum-normal', 'splash-normal'},\n",
       " {'bass_drum-normal', 'snare-normal'},\n",
       " {'bass_drum-normal', 'low_tom-normal'},\n",
       " {'bass_drum-normal', 'crash-normal'},\n",
       " {'bass_drum-normal', 'mid_tom-normal'},\n",
       " {'bass_drum-normal', 'high_tom-normal'},\n",
       " {'bass_drum-normal', 'ride-bell'},\n",
       " {'bass_drum-normal', 'ride-normal'},\n",
       " {'bass_drum-normal', 'hi_hat-open'},\n",
       " {'bass_drum-normal', 'hi_hat-normal'},\n",
       " {'snare-normal', 'splash-normal'},\n",
       " {'low_tom-normal', 'splash-normal'},\n",
       " {'crash-normal', 'splash-normal'},\n",
       " {'mid_tom-normal', 'splash-normal'},\n",
       " {'high_tom-normal', 'splash-normal'},\n",
       " {'ride-bell', 'splash-normal'},\n",
       " {'ride-normal', 'splash-normal'},\n",
       " {'hi_hat-open', 'splash-normal'},\n",
       " {'hi_hat-normal', 'splash-normal'},\n",
       " {'low_tom-normal', 'snare-normal'},\n",
       " {'crash-normal', 'snare-normal'},\n",
       " {'mid_tom-normal', 'snare-normal'},\n",
       " {'high_tom-normal', 'snare-normal'},\n",
       " {'ride-bell', 'snare-normal'},\n",
       " {'ride-normal', 'snare-normal'},\n",
       " {'hi_hat-open', 'snare-normal'},\n",
       " {'hi_hat-normal', 'snare-normal'},\n",
       " {'crash-normal', 'low_tom-normal'},\n",
       " {'low_tom-normal', 'mid_tom-normal'},\n",
       " {'high_tom-normal', 'low_tom-normal'},\n",
       " {'low_tom-normal', 'ride-bell'},\n",
       " {'low_tom-normal', 'ride-normal'},\n",
       " {'hi_hat-open', 'low_tom-normal'},\n",
       " {'hi_hat-normal', 'low_tom-normal'},\n",
       " {'crash-normal', 'mid_tom-normal'},\n",
       " {'crash-normal', 'high_tom-normal'},\n",
       " {'crash-normal', 'ride-bell'},\n",
       " {'crash-normal', 'ride-normal'},\n",
       " {'crash-normal', 'hi_hat-open'},\n",
       " {'crash-normal', 'hi_hat-normal'},\n",
       " {'high_tom-normal', 'mid_tom-normal'},\n",
       " {'mid_tom-normal', 'ride-bell'},\n",
       " {'mid_tom-normal', 'ride-normal'},\n",
       " {'hi_hat-open', 'mid_tom-normal'},\n",
       " {'hi_hat-normal', 'mid_tom-normal'},\n",
       " {'high_tom-normal', 'ride-bell'},\n",
       " {'high_tom-normal', 'ride-normal'},\n",
       " {'hi_hat-open', 'high_tom-normal'},\n",
       " {'hi_hat-normal', 'high_tom-normal'},\n",
       " {'hi_hat-open', 'ride-bell'},\n",
       " {'hi_hat-normal', 'ride-bell'},\n",
       " {'hi_hat-open', 'ride-normal'},\n",
       " {'hi_hat-normal', 'ride-normal'},\n",
       " {'bass_drum-normal', 'snare-normal', 'splash-normal'},\n",
       " {'bass_drum-normal', 'low_tom-normal', 'splash-normal'},\n",
       " {'bass_drum-normal', 'crash-normal', 'splash-normal'},\n",
       " {'bass_drum-normal', 'mid_tom-normal', 'splash-normal'},\n",
       " {'bass_drum-normal', 'high_tom-normal', 'splash-normal'},\n",
       " {'bass_drum-normal', 'ride-bell', 'splash-normal'},\n",
       " {'bass_drum-normal', 'ride-normal', 'splash-normal'},\n",
       " {'bass_drum-normal', 'hi_hat-open', 'splash-normal'},\n",
       " {'bass_drum-normal', 'hi_hat-normal', 'splash-normal'},\n",
       " {'bass_drum-normal', 'low_tom-normal', 'snare-normal'},\n",
       " {'bass_drum-normal', 'crash-normal', 'snare-normal'},\n",
       " {'bass_drum-normal', 'mid_tom-normal', 'snare-normal'},\n",
       " {'bass_drum-normal', 'high_tom-normal', 'snare-normal'},\n",
       " {'bass_drum-normal', 'ride-bell', 'snare-normal'},\n",
       " {'bass_drum-normal', 'ride-normal', 'snare-normal'},\n",
       " {'bass_drum-normal', 'hi_hat-open', 'snare-normal'},\n",
       " {'bass_drum-normal', 'hi_hat-normal', 'snare-normal'},\n",
       " {'bass_drum-normal', 'crash-normal', 'low_tom-normal'},\n",
       " {'bass_drum-normal', 'low_tom-normal', 'mid_tom-normal'},\n",
       " {'bass_drum-normal', 'high_tom-normal', 'low_tom-normal'},\n",
       " {'bass_drum-normal', 'low_tom-normal', 'ride-bell'},\n",
       " {'bass_drum-normal', 'low_tom-normal', 'ride-normal'},\n",
       " {'bass_drum-normal', 'hi_hat-open', 'low_tom-normal'},\n",
       " {'bass_drum-normal', 'hi_hat-normal', 'low_tom-normal'},\n",
       " {'bass_drum-normal', 'crash-normal', 'mid_tom-normal'},\n",
       " {'bass_drum-normal', 'crash-normal', 'high_tom-normal'},\n",
       " {'bass_drum-normal', 'crash-normal', 'ride-bell'},\n",
       " {'bass_drum-normal', 'crash-normal', 'ride-normal'},\n",
       " {'bass_drum-normal', 'crash-normal', 'hi_hat-open'},\n",
       " {'bass_drum-normal', 'crash-normal', 'hi_hat-normal'},\n",
       " {'bass_drum-normal', 'high_tom-normal', 'mid_tom-normal'},\n",
       " {'bass_drum-normal', 'mid_tom-normal', 'ride-bell'},\n",
       " {'bass_drum-normal', 'mid_tom-normal', 'ride-normal'},\n",
       " {'bass_drum-normal', 'hi_hat-open', 'mid_tom-normal'},\n",
       " {'bass_drum-normal', 'hi_hat-normal', 'mid_tom-normal'},\n",
       " {'bass_drum-normal', 'high_tom-normal', 'ride-bell'},\n",
       " {'bass_drum-normal', 'high_tom-normal', 'ride-normal'},\n",
       " {'bass_drum-normal', 'hi_hat-open', 'high_tom-normal'},\n",
       " {'bass_drum-normal', 'hi_hat-normal', 'high_tom-normal'},\n",
       " {'bass_drum-normal', 'hi_hat-open', 'ride-bell'},\n",
       " {'bass_drum-normal', 'hi_hat-normal', 'ride-bell'},\n",
       " {'bass_drum-normal', 'hi_hat-open', 'ride-normal'},\n",
       " {'bass_drum-normal', 'hi_hat-normal', 'ride-normal'}]"
      ]
     },
     "execution_count": 54,
     "metadata": {},
     "output_type": "execute_result"
    }
   ],
   "source": [
    "print(len(kcs))\n",
    "kcs"
   ]
  },
  {
   "cell_type": "code",
   "execution_count": null,
   "metadata": {},
   "outputs": [],
   "source": []
  }
 ],
 "metadata": {
  "kernelspec": {
   "display_name": "Python 3",
   "language": "python",
   "name": "python3"
  },
  "language_info": {
   "codemirror_mode": {
    "name": "ipython",
    "version": 3
   },
   "file_extension": ".py",
   "mimetype": "text/x-python",
   "name": "python",
   "nbconvert_exporter": "python",
   "pygments_lexer": "ipython3",
   "version": "3.5.1"
  }
 },
 "nbformat": 4,
 "nbformat_minor": 2
}
