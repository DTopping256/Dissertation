{
 "cells": [
  {
   "cell_type": "code",
   "execution_count": 8,
   "metadata": {},
   "outputs": [],
   "source": [
    "from itertools import permutations\n",
    "import sys\n",
    "import tensorflow as tf\n",
    "import keras.preprocessing.sequence\n",
    "from keras.utils import Sequence, to_categorical\n",
    "from keras.layers import Dense, Conv1D, Activation, MaxPooling1D, AveragePooling1D\n",
    "from keras.models import Sequential\n",
    "from scipy import signal\n",
    "import pickle\n",
    "import numpy as np\n",
    "\n",
    "# Allows me to import my modules\n",
    "sys.path.append('./modules')\n",
    "from audio_utils import *"
   ]
  },
  {
   "cell_type": "code",
   "execution_count": 2,
   "metadata": {},
   "outputs": [],
   "source": [
    "kltls = ['bass_drum-normal','hi_hat-normal',\n",
    "  'hi_hat-open',\n",
    "  'high_tom-normal',\n",
    "  'ride-normal',\n",
    "  'ride-bell',\n",
    "  'crash-normal',\n",
    "  'snare-normal',\n",
    "  'low_tom-normal',\n",
    "  'mid_tom-normal']"
   ]
  },
  {
   "cell_type": "code",
   "execution_count": 3,
   "metadata": {},
   "outputs": [],
   "source": [
    "def labels_to_ys(labels):\n",
    "    ys = np.zeros(len(kltls))\n",
    "    for n in range(len(kltls)):\n",
    "        kl, tl = kltls[n].split(\"-\")\n",
    "        for label_i in range(len(labels[\"hit_label\"])):\n",
    "            if (kl in labels[\"kit_label\"][label_i] and tl in labels[\"tech_label\"][label_i]):\n",
    "                ys[n] = 1\n",
    "    return ys\n",
    "\n",
    "def ys_to_labels(ys, threshold = 0.6):\n",
    "    labels = {\"hit_label\": [], \"kit_label\": [], \"tech_label\": []}\n",
    "    for n in range(len(kltls)):\n",
    "        kl, tl = kltls[n].split(\"-\")\n",
    "        if (ys[n] > threshold):\n",
    "            hl = \"beater\" if kl == \"bass_drum\" else \"stick\"\n",
    "            labels[\"hit_label\"].append(hl)\n",
    "            labels[\"kit_label\"].append(kl)\n",
    "            labels[\"tech_label\"].append(tl)\n",
    "    return labels"
   ]
  },
  {
   "cell_type": "code",
   "execution_count": 4,
   "metadata": {},
   "outputs": [],
   "source": [
    "class AudioGenerator(Sequence):\n",
    "    def get_ys(self, labels):\n",
    "        return labels_to_ys(labels)\n",
    "    \n",
    "    def __init__(self, filenames, labels, data_type):\n",
    "        self.filenames, self.labels, self.batch_size = filenames, labels, SETTINGS.data[data_type][\"batch_size\"]\n",
    "        \n",
    "    def __len__(self):\n",
    "        return int(np.floor(len(self.filenames) / float(self.batch_size)))\n",
    "\n",
    "    def __getitem__(self, idx):\n",
    "        batch_x = self.filenames[idx * self.batch_size:(idx + 1) * self.batch_size]\n",
    "        batch_y = self.labels[idx * self.batch_size:(idx + 1) * self.batch_size]\n",
    "        return np.array([np.loadtxt(file_name) for file_name in batch_x]), np.array(list(map(self.get_ys, batch_y)))"
   ]
  },
  {
   "cell_type": "code",
   "execution_count": 5,
   "metadata": {},
   "outputs": [],
   "source": [
    "# Data generators\n",
    "generators = {\"training\": None, \"test\": None}\n",
    "for data_type in generators.keys():\n",
    "    sample_metadata = get_file_classes(data_type)\n",
    "    filenames = [sm[\"filepath\"] for sm in sample_metadata]\n",
    "    labels = [sm[\"labels\"] for sm in sample_metadata]\n",
    "    generators[data_type] = AudioGenerator(filenames, labels, data_type)"
   ]
  },
  {
   "cell_type": "code",
   "execution_count": 9,
   "metadata": {},
   "outputs": [
    {
     "name": "stdout",
     "output_type": "stream",
     "text": [
      "Picklable: True\n"
     ]
    }
   ],
   "source": [
    "# Test whether generator arguments are picklable (whether they can be multiprocessed)\n",
    "use_multiprocessing = True\n",
    "for gen in generators:\n",
    "    try:\n",
    "        pickle.dumps(gen)\n",
    "    except:\n",
    "        print(sys.exc_info())\n",
    "        use_multiprocessing = False\n",
    "        break\n",
    "print(\"Picklable:\", use_multiprocessing)"
   ]
  },
  {
   "cell_type": "code",
   "execution_count": null,
   "metadata": {},
   "outputs": [],
   "source": [
    "# Instantiate model\n",
    "model = Sequential([\n",
    "    Conv1D(),\n",
    "    Activation(),\n",
    "    BatchNormalization(),\n",
    "    Conv1D(),\n",
    "    Activation(),\n",
    "    BatchNormalization(),\n",
    "    MaxPooling1D(),\n",
    "])\n",
    "model.compile()"
   ]
  },
  {
   "cell_type": "code",
   "execution_count": null,
   "metadata": {},
   "outputs": [],
   "source": [
    "# Train model\n",
    "model.fit_generator(generator=generators[\"training\"],\n",
    "                   validation_data=generators[\"validation\"],\n",
    "                   use_multiprocessing=use_multiprocessing,\n",
    "                   workers=6)"
   ]
  }
 ],
 "metadata": {
  "kernelspec": {
   "display_name": "Python 3",
   "language": "python",
   "name": "python3"
  },
  "language_info": {
   "codemirror_mode": {
    "name": "ipython",
    "version": 3
   },
   "file_extension": ".py",
   "mimetype": "text/x-python",
   "name": "python",
   "nbconvert_exporter": "python",
   "pygments_lexer": "ipython3",
   "version": "3.5.1"
  }
 },
 "nbformat": 4,
 "nbformat_minor": 2
}
