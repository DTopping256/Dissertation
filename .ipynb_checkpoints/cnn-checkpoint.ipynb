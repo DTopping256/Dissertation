{
 "cells": [
  {
   "cell_type": "code",
   "execution_count": 38,
   "metadata": {},
   "outputs": [],
   "source": [
    "from itertools import permutations\n",
    "import sys\n",
    "import tensorflow as tf\n",
    "import keras.preprocessing.sequence\n",
    "from keras.utils import Sequence\n",
    "from scipy import signal\n",
    "from scipy.io import wavfile as wav\n",
    "\n",
    "# Allows me to import my modules\n",
    "sys.path.append('./modules')\n",
    "from audio_utils import *"
   ]
  },
  {
   "cell_type": "code",
   "execution_count": 2,
   "metadata": {},
   "outputs": [
    {
     "data": {
      "text/plain": [
       "['add_noise', 'reduce_noise', 'amplitude', 'pitch']"
      ]
     },
     "execution_count": 2,
     "metadata": {},
     "output_type": "execute_result"
    }
   ],
   "source": [
    "SETTINGS.preprocessed[\"augmentations\"]"
   ]
  },
  {
   "cell_type": "code",
   "execution_count": 3,
   "metadata": {},
   "outputs": [],
   "source": [
    "def get_all_augmentation_stacks():\n",
    "    augs = SETTINGS.preprocessed[\"augmentations\"]\n",
    "    # Permutations of 2 or more length of augmentation stacks.\n",
    "    aug_stacks =  [[*cs] for i in range(2, len(augs)+1) for cs in permutations(augs, i)]\n",
    "    # Add single augmentation stacks to the set \n",
    "    aug_stacks = aug_stacks + [[aug] for aug in augs]\n",
    "    return aug_stacks"
   ]
  },
  {
   "cell_type": "code",
   "execution_count": 4,
   "metadata": {},
   "outputs": [],
   "source": [
    "def get_augmentation_path(aug_stack):\n",
    "    return os.path.join(os.getcwd(), SETTINGS.data_paths[\"preprocessed\"], \"-\".join(aug_stack))"
   ]
  },
  {
   "cell_type": "code",
   "execution_count": 5,
   "metadata": {},
   "outputs": [],
   "source": [
    "aug_stacks = get_all_augmentation_stacks()"
   ]
  },
  {
   "cell_type": "code",
   "execution_count": 6,
   "metadata": {},
   "outputs": [],
   "source": [
    "augmented_sample_paths = [get_augmentation_path(s) for s in aug_stacks]"
   ]
  },
  {
   "cell_type": "code",
   "execution_count": null,
   "metadata": {},
   "outputs": [],
   "source": [
    "filepaths = []\n",
    "labels = []\n",
    "for path, subdirs, files is os.walk(os.path.join(os.getcwd(), SETTINGS.data_paths[\"training\"])):\n",
    "    # The sub-directory the files are in is the multi class label.\n",
    "    ls = path.split(os.sep)[-1].split(\"-\")\n",
    "    # Filter a list of wav files from files \n",
    "    files = list(filter(lambda filename: filename[-4:] == \".wav\", files))\n",
    "    # Add filenames to \n",
    "    filepaths.extend(list(map(lambda file: os.path.join(path, file), files)))\n",
    "    labels.extend([ls for f in files])"
   ]
  },
  {
   "cell_type": "code",
   "execution_count": 40,
   "metadata": {},
   "outputs": [],
   "source": [
    "LABELS_LEN = len(SETTINGS.kit_labels)\n",
    "\n",
    "class WavGenerator(Sequence):\n",
    "\n",
    "    def get_Y(self, labels):\n",
    "        return [1 if SETTINGS.kit_labels[i] in labels else 0 for i in range(LABELS_LEN)]\n",
    "    \n",
    "    def __init__(self, filenames, labels, batch_size):\n",
    "        self.filenames, self.labels, self.batch_size = filenames, [self.get_Y(ls) for ls in labels], batch_size\n",
    "\n",
    "    def __len__(self):\n",
    "        return np.ceil(len(self.filenames) / float(self.batch_size))\n",
    "\n",
    "    def __getitem__(self, idx):\n",
    "        batch_x = self.image_filenames[idx * self.batch_size:(idx + 1) * self.batch_size]\n",
    "        batch_y = self.labels[idx * self.batch_size:(idx + 1) * self.batch_size]\n",
    "\n",
    "        return np.array([\n",
    "            signal.resample(wav.read(file_name), 3000)\n",
    "               for file_name in batch_x]), np.array(batch_y)"
   ]
  },
  {
   "cell_type": "code",
   "execution_count": null,
   "metadata": {},
   "outputs": [],
   "source": []
  }
 ],
 "metadata": {
  "kernelspec": {
   "display_name": "Python 3",
   "language": "python",
   "name": "python3"
  },
  "language_info": {
   "codemirror_mode": {
    "name": "ipython",
    "version": 3
   },
   "file_extension": ".py",
   "mimetype": "text/x-python",
   "name": "python",
   "nbconvert_exporter": "python",
   "pygments_lexer": "ipython3",
   "version": "3.5.1"
  }
 },
 "nbformat": 4,
 "nbformat_minor": 2
}
