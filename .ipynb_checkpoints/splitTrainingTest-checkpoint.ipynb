{
 "cells": [
  {
   "cell_type": "code",
   "execution_count": 1,
   "metadata": {},
   "outputs": [
    {
     "name": "stdout",
     "output_type": "stream",
     "text": [
      "Attempting to read settings file...\n",
      "\tRead successfully!\n"
     ]
    }
   ],
   "source": [
    "import sys\n",
    "import zipfile\n",
    "import re\n",
    "import math\n",
    "from tqdm import tqdm_notebook\n",
    "\n",
    "# Allows me to import my modules\n",
    "sys.path.append('./modules')\n",
    "from audio_utils import *\n",
    "\n",
    "# A common split for data is 60% training, 20% validation and 20% testing to minimise error of training (too few training data) and error of testing (too few testing); data isn't used more than once to prevent overfitting.\n",
    "training, validation, test = 0.6, 0.2, 0.2\n",
    "d = math.gcd(math.gcd(int(training*100), int(validation*100)), int(test*100)) # Greatest common divisor of ^ *100\n",
    "training_bound, validation_bound, test_bound = training*100/d, validation*100/d, test*100/d\n",
    "s = training_bound + validation_bound + test_bound"
   ]
  },
  {
   "cell_type": "code",
   "execution_count": 2,
   "metadata": {},
   "outputs": [],
   "source": [
    "datatypes = [\"cropped_data\", \"multiclassed_data\", \"multiclassed_data_no_augs\", \"pre_multiclass_augmented_data\", \"post_multiclass_augmented_data\", \"post_multiclass_augmented_data_no_pre\"]"
   ]
  },
  {
   "cell_type": "code",
   "execution_count": 3,
   "metadata": {
    "scrolled": false
   },
   "outputs": [
    {
     "data": {
      "application/vnd.jupyter.widget-view+json": {
       "model_id": "035a2e50b5724f5182641c38a23b068a",
       "version_major": 2,
       "version_minor": 0
      },
      "text/plain": [
       "HBox(children=(IntProgress(value=0, description='Reading archives', max=19, style=ProgressStyle(description_wi…"
      ]
     },
     "metadata": {},
     "output_type": "display_data"
    },
    {
     "name": "stdout",
     "output_type": "stream",
     "text": [
      "Current archive: cropped_data_0_2019-02-25.zip\n"
     ]
    },
    {
     "data": {
      "application/vnd.jupyter.widget-view+json": {
       "model_id": "3749f1cfeeca4f52aeceb2b1ef017786",
       "version_major": 2,
       "version_minor": 0
      },
      "text/plain": [
       "HBox(children=(IntProgress(value=0, description='Files extracted', max=922, style=ProgressStyle(description_wi…"
      ]
     },
     "metadata": {},
     "output_type": "display_data"
    },
    {
     "name": "stdout",
     "output_type": "stream",
     "text": [
      "Current archive: cropped_data_0_2019-03-19.zip\n"
     ]
    },
    {
     "data": {
      "application/vnd.jupyter.widget-view+json": {
       "model_id": "ac0c24ac6e664e239e1f2aa8716ca959",
       "version_major": 2,
       "version_minor": 0
      },
      "text/plain": [
       "HBox(children=(IntProgress(value=0, description='Files extracted', max=147, style=ProgressStyle(description_wi…"
      ]
     },
     "metadata": {},
     "output_type": "display_data"
    },
    {
     "name": "stdout",
     "output_type": "stream",
     "text": [
      "Current archive: multiclassed_data_0_2019-02-25.zip\n"
     ]
    },
    {
     "data": {
      "application/vnd.jupyter.widget-view+json": {
       "model_id": "d85df4a4759f42dc8f0f1da633addc74",
       "version_major": 2,
       "version_minor": 0
      },
      "text/plain": [
       "HBox(children=(IntProgress(value=0, description='Files extracted', max=5992, style=ProgressStyle(description_w…"
      ]
     },
     "metadata": {},
     "output_type": "display_data"
    },
    {
     "name": "stdout",
     "output_type": "stream",
     "text": [
      "Current archive: multiclassed_data_0_2019-03-19.zip\n"
     ]
    },
    {
     "data": {
      "application/vnd.jupyter.widget-view+json": {
       "model_id": "f9cca70b7d6b46509b948e6fbecbf398",
       "version_major": 2,
       "version_minor": 0
      },
      "text/plain": [
       "HBox(children=(IntProgress(value=0, description='Files extracted', max=2697, style=ProgressStyle(description_w…"
      ]
     },
     "metadata": {},
     "output_type": "display_data"
    },
    {
     "name": "stdout",
     "output_type": "stream",
     "text": [
      "Current archive: multiclassed_data_no_augs_0_2019-02-25.zip\n"
     ]
    },
    {
     "data": {
      "application/vnd.jupyter.widget-view+json": {
       "model_id": "ce2dc03e39b84ec9a5a068b83a29ce0b",
       "version_major": 2,
       "version_minor": 0
      },
      "text/plain": [
       "HBox(children=(IntProgress(value=0, description='Files extracted', max=107, style=ProgressStyle(description_wi…"
      ]
     },
     "metadata": {},
     "output_type": "display_data"
    },
    {
     "name": "stdout",
     "output_type": "stream",
     "text": [
      "Current archive: multiclassed_data_no_augs_0_2019-03-19.zip\n"
     ]
    },
    {
     "data": {
      "application/vnd.jupyter.widget-view+json": {
       "model_id": "1c0df14719a2409fa3c5cba404424fff",
       "version_major": 2,
       "version_minor": 0
      },
      "text/plain": [
       "HBox(children=(IntProgress(value=0, description='Files extracted', max=87, style=ProgressStyle(description_wid…"
      ]
     },
     "metadata": {},
     "output_type": "display_data"
    },
    {
     "name": "stdout",
     "output_type": "stream",
     "text": [
      "Current archive: post_multiclass_augmented_data_0_2019-03-07.zip\n"
     ]
    },
    {
     "data": {
      "application/vnd.jupyter.widget-view+json": {
       "model_id": "e88c1d8c979e4565adab79a4f9c5dcc0",
       "version_major": 2,
       "version_minor": 0
      },
      "text/plain": [
       "HBox(children=(IntProgress(value=0, description='Files extracted', max=116760, style=ProgressStyle(description…"
      ]
     },
     "metadata": {},
     "output_type": "display_data"
    },
    {
     "name": "stdout",
     "output_type": "stream",
     "text": [
      "<class 'zipfile.BadZipFile'> zipfiles that span multiple disks are not supported <traceback object at 0x000001AB0F906188>\n",
      "Current archive: post_multiclass_augmented_data_no_pre_0_2019_02_25.zip\n"
     ]
    },
    {
     "data": {
      "application/vnd.jupyter.widget-view+json": {
       "model_id": "208fb6848e5545f2b2c5620f6027c15a",
       "version_major": 2,
       "version_minor": 0
      },
      "text/plain": [
       "HBox(children=(IntProgress(value=0, description='Files extracted', max=2140, style=ProgressStyle(description_w…"
      ]
     },
     "metadata": {},
     "output_type": "display_data"
    },
    {
     "name": "stdout",
     "output_type": "stream",
     "text": [
      "Current archive: pre_multiclass_augmented_data_0_2019-02-25.zip\n"
     ]
    },
    {
     "data": {
      "application/vnd.jupyter.widget-view+json": {
       "model_id": "cf625a1a4d9248f2b7b75cad8e279eca",
       "version_major": 2,
       "version_minor": 0
      },
      "text/plain": [
       "HBox(children=(IntProgress(value=0, description='Files extracted', max=13640, style=ProgressStyle(description_…"
      ]
     },
     "metadata": {},
     "output_type": "display_data"
    },
    {
     "name": "stdout",
     "output_type": "stream",
     "text": [
      "Current archive: pre_multiclass_augmented_data_0_2019-03-27.zip\n"
     ]
    },
    {
     "data": {
      "application/vnd.jupyter.widget-view+json": {
       "model_id": "d22b880fa1ca4ee79da26c84a5c34bf7",
       "version_major": 2,
       "version_minor": 0
      },
      "text/plain": [
       "HBox(children=(IntProgress(value=0, description='Files extracted', max=18228, style=ProgressStyle(description_…"
      ]
     },
     "metadata": {},
     "output_type": "display_data"
    },
    {
     "name": "stdout",
     "output_type": "stream",
     "text": [
      "\n"
     ]
    }
   ],
   "source": [
    "i = 0\n",
    "zip_dir = os.path.join(os.getcwd(), \"zipped_data\")\n",
    "zip_archives = os.listdir(zip_dir)\n",
    "for archive_filepath in tqdm_notebook(zip_archives, total=len(zip_archives), desc=\"Reading archives\"):\n",
    "    if archive_filepath[:-17] in datatypes:\n",
    "        try:\n",
    "            with zipfile.ZipFile(os.path.join(zip_dir, archive_filepath), mode=\"r\") as archive:\n",
    "                print(\"Current archive: {}\".format(archive_filepath))\n",
    "                archive_files = list(filter(lambda x: \".\" in re.split(\"\\/\", x.filename)[-1], archive.infolist()))\n",
    "                for fileinfo in tqdm_notebook(archive_files, total=len(archive_files), desc=\"Files extracted\"):\n",
    "                    # Choosing data_set between \"training\", \"validation\" & \"test\".\n",
    "                    data_set = \"training_data\"\n",
    "                    if (training_bound <= i%s and (training_bound+validation_bound) > i%s):\n",
    "                        data_set = \"validation_data\"\n",
    "                    elif ((training_bound+validation_bound) <= i%s):\n",
    "                        data_set = \"test_data\"\n",
    "                    target_path = os.path.join(os.getcwd(), \"audio_data\", data_set)\n",
    "                    path_components = re.split(\"\\/\", fileinfo.filename)\n",
    "                    hlkltl = path_components[-4:-1]\n",
    "                    if (\".\" in path_components[-1]):\n",
    "                        uid, ext = path_components[-1].split(\".\")\n",
    "                        fp = os.path.join(target_path, *hlkltl, uid+\".\"+ext)\n",
    "                        subdirs = os.path.join(target_path, *hlkltl)\n",
    "                        if not os.path.exists(subdirs):\n",
    "                            os.makedirs(subdirs)\n",
    "                        while (os.path.exists(fp)):\n",
    "                            uid = str(int(uid)+1)\n",
    "                            fp = os.path.join(target_path, *hlkltl, uid+\".\"+ext)\n",
    "                        data = archive.read(fileinfo)\n",
    "                        with open(fp, \"wb\") as write_location:\n",
    "                            write_location.write(data)\n",
    "                        i += 1\n",
    "                    else:\n",
    "                        continue\n",
    "        except:\n",
    "            print(*sys.exc_info())"
   ]
  }
 ],
 "metadata": {
  "kernelspec": {
   "display_name": "Python 3",
   "language": "python",
   "name": "python3"
  },
  "language_info": {
   "codemirror_mode": {
    "name": "ipython",
    "version": 3
   },
   "file_extension": ".py",
   "mimetype": "text/x-python",
   "name": "python",
   "nbconvert_exporter": "python",
   "pygments_lexer": "ipython3",
   "version": "3.7.3"
  }
 },
 "nbformat": 4,
 "nbformat_minor": 2
}
