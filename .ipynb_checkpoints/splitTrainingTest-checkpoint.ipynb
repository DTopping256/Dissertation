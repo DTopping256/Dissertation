{
 "cells": [
  {
   "cell_type": "code",
   "execution_count": 1,
   "metadata": {},
   "outputs": [
    {
     "name": "stdout",
     "output_type": "stream",
     "text": [
      "Attempting to read settings file...\n",
      "\tRead successfully!\n"
     ]
    }
   ],
   "source": [
    "import sys\n",
    "import os\n",
    "import zipfile\n",
    "import re\n",
    "import math\n",
    "from tqdm import tqdm_notebook\n",
    "\n",
    "# Allows me to import my modules\n",
    "sys.path.append('./modules')\n",
    "from audio_utils import *\n",
    "\n",
    "# A common split for data is 60% training, 20% validation and 20% testing to minimise error of training (too few training data) and error of testing (too few testing); data isn't used more than once to prevent overfitting.\n",
    "training, validation, test = 0.6, 0.2, 0.2\n",
    "d = math.gcd(math.gcd(int(training*100), int(validation*100)), int(test*100)) # Greatest common divisor of ^ *100\n",
    "training_bound, validation_bound, test_bound = training*100/d, validation*100/d, test*100/d\n",
    "s = training_bound + validation_bound + test_bound"
   ]
  },
  {
   "cell_type": "code",
   "execution_count": 4,
   "metadata": {},
   "outputs": [],
   "source": [
    "datatypes = [\"cropped_data\", \"multiclassed_data\", \"multiclassed_data_no_augs\", \"pre_multiclass_augmented_data\", \"post_multiclass_augmented_data\", \"post_multiclass_augmented_data_no_pre\", \"pre_multiclass_augmented_data_bassdrum\"]"
   ]
  },
  {
   "cell_type": "code",
   "execution_count": 5,
   "metadata": {},
   "outputs": [
    {
     "name": "stdout",
     "output_type": "stream",
     "text": [
      "cropped_data_0_2019-02-25.zip\n",
      "Openned archive.\n",
      "cropped_data_0_2019-03-19.zip\n",
      "Openned archive.\n",
      "multiclassed_data_0_2019-02-25.zip\n",
      "Openned archive.\n",
      "multiclassed_data_0_2019-03-19.zip\n",
      "Openned archive.\n",
      "multiclassed_data_no_augs_0_2019-02-25.zip\n",
      "Openned archive.\n",
      "multiclassed_data_no_augs_0_2019-03-19.zip\n",
      "Openned archive.\n",
      "post_multiclass_augmented_data_0_2019-03-07.zip\n",
      "Openned archive.\n",
      "post_multiclass_augmented_data_2_2019-03-19.zip\n",
      "Openned archive.\n",
      "post_multiclass_augmented_data_no_pre_0_2019-04-16.zip\n",
      "Openned archive.\n",
      "pre_multiclass_augmented_data_0_2019-02-25.zip\n",
      "Openned archive.\n",
      "pre_multiclass_augmented_data_0_2019-03-27.zip\n",
      "Openned archive.\n",
      "pre_multiclass_augmented_data_bassdrum_0_2019-04-22.zip\n",
      "Openned archive.\n"
     ]
    }
   ],
   "source": [
    "zip_dir = os.path.join(os.getcwd(), \"zipped_data\")\n",
    "zip_archives = os.listdir(zip_dir)\n",
    "for archive in zip_archives:\n",
    "    archive_type = \"_\".join(archive.split(\"_\")[:-2])\n",
    "    if archive_type in datatypes:\n",
    "        print(archive)\n",
    "        try:\n",
    "            with zipfile.ZipFile(os.path.join(zip_dir, archive), mode=\"r\") as archive:\n",
    "                print(\"Openned archive.\")\n",
    "        except:\n",
    "            print(\"Failed to open archive.\")\n",
    "        "
   ]
  },
  {
   "cell_type": "code",
   "execution_count": 6,
   "metadata": {
    "scrolled": false
   },
   "outputs": [
    {
     "data": {
      "application/vnd.jupyter.widget-view+json": {
       "model_id": "73238aa7aa184477a67887f496512293",
       "version_major": 2,
       "version_minor": 0
      },
      "text/plain": [
       "HBox(children=(IntProgress(value=0, description='Reading archives', max=19, style=ProgressStyle(description_wi…"
      ]
     },
     "metadata": {},
     "output_type": "display_data"
    },
    {
     "name": "stdout",
     "output_type": "stream",
     "text": [
      "Current archive: <zipfile.ZipFile filename='D:\\\\Documents\\\\University\\\\Year3\\\\Independant Studies\\\\zipped_data\\\\cropped_data_0_2019-02-25.zip' mode='r'>\n"
     ]
    },
    {
     "data": {
      "application/vnd.jupyter.widget-view+json": {
       "model_id": "2a126c1da7db4ac99834e5a4c9ab0e1b",
       "version_major": 2,
       "version_minor": 0
      },
      "text/plain": [
       "HBox(children=(IntProgress(value=0, description='Files extracted', max=922, style=ProgressStyle(description_wi…"
      ]
     },
     "metadata": {},
     "output_type": "display_data"
    },
    {
     "name": "stdout",
     "output_type": "stream",
     "text": [
      "Current archive: <zipfile.ZipFile filename='D:\\\\Documents\\\\University\\\\Year3\\\\Independant Studies\\\\zipped_data\\\\cropped_data_0_2019-03-19.zip' mode='r'>\n"
     ]
    },
    {
     "data": {
      "application/vnd.jupyter.widget-view+json": {
       "model_id": "d33c2e7295a24ebb8d45c827b6d38f91",
       "version_major": 2,
       "version_minor": 0
      },
      "text/plain": [
       "HBox(children=(IntProgress(value=0, description='Files extracted', max=147, style=ProgressStyle(description_wi…"
      ]
     },
     "metadata": {},
     "output_type": "display_data"
    },
    {
     "name": "stdout",
     "output_type": "stream",
     "text": [
      "Current archive: <zipfile.ZipFile filename='D:\\\\Documents\\\\University\\\\Year3\\\\Independant Studies\\\\zipped_data\\\\multiclassed_data_0_2019-02-25.zip' mode='r'>\n"
     ]
    },
    {
     "data": {
      "application/vnd.jupyter.widget-view+json": {
       "model_id": "2bf8dac981c940e0833feb928906efb6",
       "version_major": 2,
       "version_minor": 0
      },
      "text/plain": [
       "HBox(children=(IntProgress(value=0, description='Files extracted', max=5992, style=ProgressStyle(description_w…"
      ]
     },
     "metadata": {},
     "output_type": "display_data"
    },
    {
     "name": "stdout",
     "output_type": "stream",
     "text": [
      "Current archive: <zipfile.ZipFile filename='D:\\\\Documents\\\\University\\\\Year3\\\\Independant Studies\\\\zipped_data\\\\multiclassed_data_0_2019-03-19.zip' mode='r'>\n"
     ]
    },
    {
     "data": {
      "application/vnd.jupyter.widget-view+json": {
       "model_id": "7884cc3f3f574cd08ad40d7f7fb47110",
       "version_major": 2,
       "version_minor": 0
      },
      "text/plain": [
       "HBox(children=(IntProgress(value=0, description='Files extracted', max=2697, style=ProgressStyle(description_w…"
      ]
     },
     "metadata": {},
     "output_type": "display_data"
    },
    {
     "name": "stdout",
     "output_type": "stream",
     "text": [
      "Current archive: <zipfile.ZipFile filename='D:\\\\Documents\\\\University\\\\Year3\\\\Independant Studies\\\\zipped_data\\\\multiclassed_data_no_augs_0_2019-02-25.zip' mode='r'>\n"
     ]
    },
    {
     "data": {
      "application/vnd.jupyter.widget-view+json": {
       "model_id": "3801e1d884994c2293ee87a45f7e95ec",
       "version_major": 2,
       "version_minor": 0
      },
      "text/plain": [
       "HBox(children=(IntProgress(value=0, description='Files extracted', max=107, style=ProgressStyle(description_wi…"
      ]
     },
     "metadata": {},
     "output_type": "display_data"
    },
    {
     "name": "stdout",
     "output_type": "stream",
     "text": [
      "Current archive: <zipfile.ZipFile filename='D:\\\\Documents\\\\University\\\\Year3\\\\Independant Studies\\\\zipped_data\\\\multiclassed_data_no_augs_0_2019-03-19.zip' mode='r'>\n"
     ]
    },
    {
     "data": {
      "application/vnd.jupyter.widget-view+json": {
       "model_id": "44cfbe60cc41461e88b2af343ce0d1c8",
       "version_major": 2,
       "version_minor": 0
      },
      "text/plain": [
       "HBox(children=(IntProgress(value=0, description='Files extracted', max=87, style=ProgressStyle(description_wid…"
      ]
     },
     "metadata": {},
     "output_type": "display_data"
    },
    {
     "name": "stdout",
     "output_type": "stream",
     "text": [
      "Current archive: <zipfile.ZipFile filename='D:\\\\Documents\\\\University\\\\Year3\\\\Independant Studies\\\\zipped_data\\\\post_multiclass_augmented_data_0_2019-03-07.zip' mode='r'>\n"
     ]
    },
    {
     "data": {
      "application/vnd.jupyter.widget-view+json": {
       "model_id": "0c586bdd1b454411867358f8f6e53aa5",
       "version_major": 2,
       "version_minor": 0
      },
      "text/plain": [
       "HBox(children=(IntProgress(value=0, description='Files extracted', max=116760, style=ProgressStyle(description…"
      ]
     },
     "metadata": {},
     "output_type": "display_data"
    },
    {
     "name": "stdout",
     "output_type": "stream",
     "text": [
      "Current archive: <zipfile.ZipFile filename='D:\\\\Documents\\\\University\\\\Year3\\\\Independant Studies\\\\zipped_data\\\\post_multiclass_augmented_data_2_2019-03-19.zip' mode='r'>\n"
     ]
    },
    {
     "data": {
      "application/vnd.jupyter.widget-view+json": {
       "model_id": "432f48a08f7d403bababa8b2f53dd3a4",
       "version_major": 2,
       "version_minor": 0
      },
      "text/plain": [
       "HBox(children=(IntProgress(value=0, description='Files extracted', max=76520, style=ProgressStyle(description_…"
      ]
     },
     "metadata": {},
     "output_type": "display_data"
    },
    {
     "name": "stdout",
     "output_type": "stream",
     "text": [
      "Current archive: <zipfile.ZipFile filename='D:\\\\Documents\\\\University\\\\Year3\\\\Independant Studies\\\\zipped_data\\\\post_multiclass_augmented_data_no_pre_0_2019-04-16.zip' mode='r'>\n"
     ]
    },
    {
     "data": {
      "application/vnd.jupyter.widget-view+json": {
       "model_id": "fc14d869407746b9ab5a38d96ef9e622",
       "version_major": 2,
       "version_minor": 0
      },
      "text/plain": [
       "HBox(children=(IntProgress(value=0, description='Files extracted', max=2140, style=ProgressStyle(description_w…"
      ]
     },
     "metadata": {},
     "output_type": "display_data"
    },
    {
     "name": "stdout",
     "output_type": "stream",
     "text": [
      "Current archive: <zipfile.ZipFile filename='D:\\\\Documents\\\\University\\\\Year3\\\\Independant Studies\\\\zipped_data\\\\pre_multiclass_augmented_data_0_2019-02-25.zip' mode='r'>\n"
     ]
    },
    {
     "data": {
      "application/vnd.jupyter.widget-view+json": {
       "model_id": "88a1adc114904e018b472dc587137b44",
       "version_major": 2,
       "version_minor": 0
      },
      "text/plain": [
       "HBox(children=(IntProgress(value=0, description='Files extracted', max=13640, style=ProgressStyle(description_…"
      ]
     },
     "metadata": {},
     "output_type": "display_data"
    },
    {
     "name": "stdout",
     "output_type": "stream",
     "text": [
      "Current archive: <zipfile.ZipFile filename='D:\\\\Documents\\\\University\\\\Year3\\\\Independant Studies\\\\zipped_data\\\\pre_multiclass_augmented_data_0_2019-03-27.zip' mode='r'>\n"
     ]
    },
    {
     "data": {
      "application/vnd.jupyter.widget-view+json": {
       "model_id": "b1db71ab0ede43b79f27780290c18157",
       "version_major": 2,
       "version_minor": 0
      },
      "text/plain": [
       "HBox(children=(IntProgress(value=0, description='Files extracted', max=18228, style=ProgressStyle(description_…"
      ]
     },
     "metadata": {},
     "output_type": "display_data"
    },
    {
     "name": "stdout",
     "output_type": "stream",
     "text": [
      "Current archive: <zipfile.ZipFile filename='D:\\\\Documents\\\\University\\\\Year3\\\\Independant Studies\\\\zipped_data\\\\pre_multiclass_augmented_data_bassdrum_0_2019-04-22.zip' mode='r'>\n"
     ]
    },
    {
     "data": {
      "application/vnd.jupyter.widget-view+json": {
       "model_id": "40a1c32aba784e048a664109f9f04cdf",
       "version_major": 2,
       "version_minor": 0
      },
      "text/plain": [
       "HBox(children=(IntProgress(value=0, description='Files extracted', max=43000, style=ProgressStyle(description_…"
      ]
     },
     "metadata": {},
     "output_type": "display_data"
    },
    {
     "name": "stdout",
     "output_type": "stream",
     "text": [
      "\n"
     ]
    }
   ],
   "source": [
    "i = 0\n",
    "zip_dir = os.path.join(os.getcwd(), \"zipped_data\")\n",
    "zip_archives = os.listdir(zip_dir)\n",
    "for archive in tqdm_notebook(zip_archives, total=len(zip_archives), desc=\"Reading archives\"):\n",
    "    archive_type = \"_\".join(archive.split(\"_\")[:-2])\n",
    "    if archive_type in datatypes:\n",
    "        try:\n",
    "            with zipfile.ZipFile(os.path.join(zip_dir, archive), mode=\"r\") as archive:\n",
    "                print(\"Current archive: {}\".format(archive))\n",
    "                archive_files = list(filter(lambda x: \".\" in re.split(\"\\/\", x.filename)[-1], archive.infolist()))\n",
    "                for fileinfo in tqdm_notebook(archive_files, total=len(archive_files), desc=\"Files extracted\"):\n",
    "                    # Choosing data_set between \"training\", \"validation\" & \"test\".\n",
    "                    data_set = \"training_data\"\n",
    "                    if (training_bound <= i%s and (training_bound+validation_bound) > i%s):\n",
    "                        data_set = \"validation_data\"\n",
    "                    elif ((training_bound+validation_bound) <= i%s):\n",
    "                        data_set = \"test_data\"\n",
    "                    target_path = os.path.join(os.getcwd(), \"audio_data\", data_set)\n",
    "                    path_components = re.split(\"\\/\", fileinfo.filename)\n",
    "                    hlkltl = path_components[-4:-1]\n",
    "                    if (\".\" in path_components[-1]):\n",
    "                        uid, ext = path_components[-1].split(\".\")\n",
    "                        fp = os.path.join(target_path, *hlkltl, uid+\".\"+ext)\n",
    "                        subdirs = os.path.join(target_path, *hlkltl)\n",
    "                        if not os.path.exists(subdirs):\n",
    "                            os.makedirs(subdirs)\n",
    "                        while (os.path.exists(fp)):\n",
    "                            uid = str(int(uid)+1)\n",
    "                            fp = os.path.join(target_path, *hlkltl, uid+\".\"+ext)\n",
    "                        data = archive.read(fileinfo)\n",
    "                        with open(fp, \"wb\") as write_location:\n",
    "                            write_location.write(data)\n",
    "                        i += 1\n",
    "                    else:\n",
    "                        continue\n",
    "        except:\n",
    "            print(*sys.exc_info())"
   ]
  },
  {
   "cell_type": "code",
   "execution_count": null,
   "metadata": {},
   "outputs": [],
   "source": []
  }
 ],
 "metadata": {
  "kernelspec": {
   "display_name": "Python 3",
   "language": "python",
   "name": "python3"
  },
  "language_info": {
   "codemirror_mode": {
    "name": "ipython",
    "version": 3
   },
   "file_extension": ".py",
   "mimetype": "text/x-python",
   "name": "python",
   "nbconvert_exporter": "python",
   "pygments_lexer": "ipython3",
   "version": "3.7.3"
  }
 },
 "nbformat": 4,
 "nbformat_minor": 2
}
