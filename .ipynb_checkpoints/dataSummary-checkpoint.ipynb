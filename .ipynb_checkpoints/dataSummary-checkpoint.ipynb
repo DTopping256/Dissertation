{
 "cells": [
  {
   "cell_type": "code",
   "execution_count": 1,
   "metadata": {},
   "outputs": [
    {
     "name": "stdout",
     "output_type": "stream",
     "text": [
      "Attempting to read settings file...\n",
      "\tRead successfully!\n"
     ]
    }
   ],
   "source": [
    "import os \n",
    "import sys\n",
    "\n",
    "# Allows me to import my modules\n",
    "sys.path.append('./modules')\n",
    "from audio_utils import *"
   ]
  },
  {
   "cell_type": "code",
   "execution_count": 2,
   "metadata": {},
   "outputs": [
    {
     "name": "stdout",
     "output_type": "stream",
     "text": [
      "\n",
      "training data: 0 files.\n",
      "\n",
      "pre_multiclass_augmented data: 13640 files.\n",
      "Found 1240 : bass_drum\n",
      "Found 1240 : crash\n",
      "Found 2480 : hi_hat\n",
      "Found 1240 : high_tom\n",
      "Found 1240 : mid_tom\n",
      "Found 1240 : low_tom\n",
      "Found 2480 : ride\n",
      "Found 1240 : snare\n",
      "Found 1240 : splash\n",
      "\n",
      "cropped data: 922 files.\n",
      "Found 250 : bass_drum\n",
      "Found 12 : crash\n",
      "Found 85 : hi_hat\n",
      "Found 20 : high_tom\n",
      "Found 27 : mid_tom\n",
      "Found 22 : low_tom\n",
      "Found 22 : ride\n",
      "Found 473 : snare\n",
      "Found 11 : splash\n",
      "\n",
      "post_multiclass_augmented data: 0 files.\n",
      "\n",
      "raw data: 0 files.\n",
      "\n",
      "multiclassed data: 0 files.\n"
     ]
    }
   ],
   "source": [
    "for datatype in SETTINGS.data.keys():\n",
    "    file_data = get_file_classes(datatype)\n",
    "    files_found = len(file_data)\n",
    "    print(\"\\n{} data: {} files.\".format(datatype, files_found))\n",
    "    if (files_found > 0):\n",
    "        for kit_label in SETTINGS.label[\"kit_label\"]:\n",
    "            data_count = 0\n",
    "            for fd in file_data:\n",
    "                if (kit_label in fd[\"labels\"][\"kit_label\"]):\n",
    "                    data_count += 1\n",
    "            print(\"Found {} : {}\".format(data_count, kit_label))"
   ]
  },
  {
   "cell_type": "code",
   "execution_count": null,
   "metadata": {},
   "outputs": [],
   "source": []
  }
 ],
 "metadata": {
  "kernelspec": {
   "display_name": "Python 3",
   "language": "python",
   "name": "python3"
  },
  "language_info": {
   "codemirror_mode": {
    "name": "ipython",
    "version": 3
   },
   "file_extension": ".py",
   "mimetype": "text/x-python",
   "name": "python",
   "nbconvert_exporter": "python",
   "pygments_lexer": "ipython3",
   "version": "3.5.1"
  }
 },
 "nbformat": 4,
 "nbformat_minor": 2
}
