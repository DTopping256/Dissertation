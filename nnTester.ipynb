{
 "cells": [
  {
   "cell_type": "code",
   "execution_count": 1,
   "metadata": {},
   "outputs": [
    {
     "name": "stderr",
     "output_type": "stream",
     "text": [
      "Using TensorFlow backend.\n"
     ]
    },
    {
     "name": "stdout",
     "output_type": "stream",
     "text": [
      "Attempting to read settings file...\n",
      "\tRead successfully!\n"
     ]
    }
   ],
   "source": [
    "from keras.models import model_from_json\n",
    "from keras import backend as K\n",
    "from generator import AudioGenerator, multilabelled_ys_to_labels, onehot_superclass_labels_to_ys, MULTI_LABEL, ONE_HOT, TIME_SEQUENCE, LOG_SPECTROGRAM, LINEAR_SPECTROGRAM\n",
    "from custom_metric import rounded_all_or_nothing_acc as RAON_accuracy\n",
    "import numpy as np\n",
    "import sys\n",
    "from tqdm import tqdm_notebook\n",
    "\n",
    "# Allows me to import my modules\n",
    "sys.path.append('./modules')\n",
    "from audio_utils import *"
   ]
  },
  {
   "cell_type": "code",
   "execution_count": 2,
   "metadata": {},
   "outputs": [],
   "source": [
    "data_type=\"test\"\n",
    "batch_size=100\n",
    "problem_type=ONE_HOT\n",
    "input_type=TIME_SEQUENCE\n",
    "\n",
    "sample_metadata = get_file_classes(data_type)\n",
    "N = len(sample_metadata)\n",
    "filenames = [sm[\"filepath\"] for sm in sample_metadata]\n",
    "labels = [sm[\"labels\"] for sm in sample_metadata]\n",
    "test_data_gen = AudioGenerator(filenames, labels, data_type, batch_size, shuffle=True, problem_type=problem_type, input_type=input_type)"
   ]
  },
  {
   "cell_type": "code",
   "execution_count": 3,
   "metadata": {},
   "outputs": [],
   "source": [
    "# Adapted from: https://machinelearningmastery.com/save-load-keras-deep-learning-models/\n",
    "models_dir = \"models\"\n",
    "\n",
    "def load_model(name):\n",
    "    loaded_model_json = None\n",
    "    with open(os.path.join(models_dir, name+\".json\"), 'r') as json_file:\n",
    "        loaded_model_json = json_file.read()\n",
    "    loaded_model = model_from_json(loaded_model_json)\n",
    "    # load weights into new model\n",
    "    loaded_model.load_weights(os.path.join(models_dir, name+\".h5\"))\n",
    "    print(\"Loaded model from disk\")\n",
    "    return loaded_model"
   ]
  },
  {
   "cell_type": "code",
   "execution_count": 4,
   "metadata": {},
   "outputs": [
    {
     "name": "stdout",
     "output_type": "stream",
     "text": [
      "WARNING:tensorflow:From c:\\python37\\lib\\site-packages\\tensorflow\\python\\framework\\op_def_library.py:263: colocate_with (from tensorflow.python.framework.ops) is deprecated and will be removed in a future version.\n",
      "Instructions for updating:\n",
      "Colocations handled automatically by placer.\n",
      "WARNING:tensorflow:From c:\\python37\\lib\\site-packages\\keras\\backend\\tensorflow_backend.py:3445: calling dropout (from tensorflow.python.ops.nn_ops) with keep_prob is deprecated and will be removed in a future version.\n",
      "Instructions for updating:\n",
      "Please use `rate` instead of `keep_prob`. Rate should be set to `rate = 1 - keep_prob`.\n",
      "Loaded model from disk\n"
     ]
    },
    {
     "data": {
      "application/vnd.jupyter.widget-view+json": {
       "model_id": "768a7369b3de41c58b5d5f074b098a83",
       "version_major": 2,
       "version_minor": 0
      },
      "text/plain": [
       "HBox(children=(IntProgress(value=0, max=96), HTML(value='')))"
      ]
     },
     "metadata": {},
     "output_type": "display_data"
    },
    {
     "name": "stdout",
     "output_type": "stream",
     "text": [
      "\n",
      "RAON accuracy:  0.9420833\n"
     ]
    }
   ],
   "source": [
    "model = load_model(\"FinalModel-v1(oversampling-bd)-(1D)-OneHot-BCE-ADAM_23-04-2019_14-42-52\")\n",
    "\n",
    "preds, trues = None, None\n",
    "for i in tqdm_notebook(range(96)):\n",
    "    x, y = test_data_gen.__getitem__(i)\n",
    "    pred_y = model.predict(x)\n",
    "    if (i == 0):\n",
    "        preds, trues = pred_y, y\n",
    "    else:\n",
    "        preds = np.append(preds, pred_y, axis=0)\n",
    "        trues = np.append(trues, y, axis=0)\n",
    "    \n",
    "preds_tensor = K.variable(preds)\n",
    "trues_tensor = K.variable(trues)\n",
    "print(\"RAON accuracy: \", K.eval(RAON_accuracy(trues_tensor, preds_tensor)))"
   ]
  },
  {
   "cell_type": "code",
   "execution_count": 5,
   "metadata": {},
   "outputs": [
    {
     "data": {
      "text/plain": [
       "(9600, 87)"
      ]
     },
     "execution_count": 5,
     "metadata": {},
     "output_type": "execute_result"
    }
   ],
   "source": [
    "preds.shape"
   ]
  },
  {
   "cell_type": "code",
   "execution_count": 6,
   "metadata": {},
   "outputs": [
    {
     "data": {
      "text/plain": [
       "array([[1., 0., 0., ..., 0., 0., 0.],\n",
       "       [1., 0., 0., ..., 0., 0., 0.],\n",
       "       [1., 0., 0., ..., 0., 0., 0.],\n",
       "       ...,\n",
       "       [1., 0., 0., ..., 0., 0., 0.],\n",
       "       [1., 0., 0., ..., 0., 0., 0.],\n",
       "       [1., 0., 0., ..., 0., 0., 0.]], dtype=float32)"
      ]
     },
     "execution_count": 6,
     "metadata": {},
     "output_type": "execute_result"
    }
   ],
   "source": [
    "trues"
   ]
  },
  {
   "cell_type": "code",
   "execution_count": 7,
   "metadata": {},
   "outputs": [
    {
     "name": "stdout",
     "output_type": "stream",
     "text": [
      "Prediction 0: \t0\n",
      "Actual 0: \t0\n",
      "Prediction 1: \t0\n",
      "Actual 1: \t0\n",
      "Prediction 2: \t0\n",
      "Actual 2: \t0\n",
      "Prediction 3: \t0\n",
      "Actual 3: \t0\n",
      "Prediction 4: \t0\n",
      "Actual 4: \t0\n",
      "Prediction 5: \t0\n",
      "Actual 5: \t0\n",
      "Prediction 6: \t0\n",
      "Actual 6: \t0\n",
      "Prediction 7: \t0\n",
      "Actual 7: \t0\n",
      "Prediction 8: \t0\n",
      "Actual 8: \t0\n",
      "Prediction 9: \t0\n",
      "Actual 9: \t0\n"
     ]
    }
   ],
   "source": [
    "np.set_printoptions(precision=2)\n",
    "\n",
    "def onehot_to_kcs(y):\n",
    "    pred = np.where(y >= 0.5)[0]\n",
    "    if pred.size == 0:\n",
    "        return False\n",
    "    else:\n",
    "        return pred[0]\n",
    "\n",
    "for i in range(10):\n",
    "    print(\"Prediction {}: \\t{}\".format(i, onehot_to_kcs(preds[i,:])))\n",
    "    print(\"Actual {}: \\t{}\".format(i, onehot_to_kcs(trues[i,:])))"
   ]
  }
 ],
 "metadata": {
  "kernelspec": {
   "display_name": "Python 3",
   "language": "python",
   "name": "python3"
  },
  "language_info": {
   "codemirror_mode": {
    "name": "ipython",
    "version": 3
   },
   "file_extension": ".py",
   "mimetype": "text/x-python",
   "name": "python",
   "nbconvert_exporter": "python",
   "pygments_lexer": "ipython3",
   "version": "3.7.3"
  }
 },
 "nbformat": 4,
 "nbformat_minor": 2
}
