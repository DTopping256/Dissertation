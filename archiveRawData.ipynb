{
 "cells": [
  {
   "cell_type": "code",
   "execution_count": 2,
   "metadata": {},
   "outputs": [
    {
     "name": "stdout",
     "output_type": "stream",
     "text": [
      "Attempting to read settings file...\n",
      "\tRead successfully!\n"
     ]
    }
   ],
   "source": [
    "import datetime\n",
    "import os\n",
    "import shutil\n",
    "import sys\n",
    "import time\n",
    "import zipfile\n",
    "\n",
    "# Allows me to import my modules\n",
    "sys.path.append('./modules')\n",
    "from audio_utils import *"
   ]
  },
  {
   "cell_type": "code",
   "execution_count": 14,
   "metadata": {},
   "outputs": [],
   "source": [
    "def archiveData(datatype=\"raw\", verbose=False):\n",
    "    if verbose:\n",
    "        print(\"Attempting to archive\", datatype, \"data.\")\n",
    "    if (SETTINGS is None):\n",
    "        if verbose:\n",
    "            print(\"\\tRead failed, since settings not found.\")\n",
    "        return False\n",
    "    if (datatype not in SETTINGS.data.keys()):\n",
    "        if verbose:\n",
    "            print(\"\\t\", datatype, \"is not a valid datatype.\")\n",
    "        return False\n",
    "    data_info = SETTINGS.data[datatype]\n",
    "    root_path = os.path.join(os.getcwd(), data_info[\"path\"])\n",
    "    try:\n",
    "        currentfiles = os.listdir(os.getcwd())\n",
    "        # Filter non datatype.zip files\n",
    "        currentfiles = list(map(lambda filename: int(filename[len(datatype)+1:-15]), filter(lambda filename: filename[:len(datatype)] == datatype and filename[-4:] == \".zip\", currentfiles)))\n",
    "        currentfiles.sort(reverse=True)\n",
    "        uid = 0\n",
    "        if (len(currentfiles) > 0):\n",
    "            uid = currentfiles[0]+1  \n",
    "        with zipfile.ZipFile(datatype+\"_\"+str(uid)+\"_\"+str(datetime.datetime.now())[:10]+\".zip\", mode=\"x\") as archive:\n",
    "            for path, dirs, files in os.walk(root_path):\n",
    "                for file in files:\n",
    "                    filepath = os.path.join(path, file)\n",
    "                    archive.write(filepath, filepath[len(root_path)+1:])\n",
    "    except:\n",
    "        print(\"\\tError (archive): \", sys.exc_info())\n",
    "        return False\n",
    "    try:\n",
    "        for path, dirs, files in os.walk(root_path):\n",
    "            for directory in dirs:\n",
    "                shutil.rmtree(os.path.relpath(os.path.join(path, directory)))\n",
    "    except:\n",
    "        print(\"\\tError (cleaning): \", sys.exc_info())\n",
    "        return False\n",
    "    if verbose:\n",
    "        print(\"\\tSuccesfully archived {} data and cleaned files.\".format(datatype))\n",
    "    return True"
   ]
  },
  {
   "cell_type": "code",
   "execution_count": 15,
   "metadata": {},
   "outputs": [
    {
     "name": "stdout",
     "output_type": "stream",
     "text": [
      "Attempting to archive raw data.\n",
      "\tSuccesfully archived raw data and cleaned files.\n"
     ]
    },
    {
     "data": {
      "text/plain": [
       "True"
      ]
     },
     "execution_count": 15,
     "metadata": {},
     "output_type": "execute_result"
    }
   ],
   "source": [
    "archiveData(verbose=True)"
   ]
  },
  {
   "cell_type": "code",
   "execution_count": 1,
   "metadata": {},
   "outputs": [],
   "source": [
    "def restoreData(datatype=\"raw\", archive_filepath=None, verbose=False):\n",
    "    method = \"most recent\" if archive_filepath is None else \"specified\"\n",
    "    if verbose:\n",
    "        print(\"Attempting to restore\", datatype, \"data.\")\n",
    "    if (SETTINGS is None):\n",
    "        if verbose:\n",
    "            print(\"\\tRead failed, since settings not found.\")\n",
    "        return False\n",
    "    if (datatype not in SETTINGS.data.keys()):\n",
    "        if verbose:\n",
    "            print(\"\\t\", datatype, \"is not a valid datatype.\")\n",
    "        return False\n",
    "    data_info = SETTINGS.data[datatype]\n",
    "    target_path = os.path.join(os.getcwd(), data_info[\"path\"])\n",
    "    try:\n",
    "        if (archive_filepath is None):\n",
    "            currentfiles = os.listdir(os.getcwd())\n",
    "            # Filter non datatype.zip files\n",
    "            currentfiles = list(map(lambda filename: int(filename[len(datatype)+1:-15]), filter(lambda filename: filename[:len(datatype)] == datatype and filename[-4:] == \".zip\", currentfiles)))\n",
    "            currentfiles.sort(reverse=True)\n",
    "            if (len(currentfiles) > 0):\n",
    "                uid = currentfiles[0] \n",
    "                archive_filepath = next(fn for fn in os.listdir(os.getcwd()) if datatype+\"_\"+str(uid) in fn)\n",
    "            else:\n",
    "                if verbose:\n",
    "                    print(\"\\tNo recognised\", datatype, \"archives in cwd.\")\n",
    "                return False\n",
    "        with zipfile.ZipFile(archive_filepath, mode=\"r\") as archive:\n",
    "            archive.extractall(path=target_path)\n",
    "    except:\n",
    "        print(\"\\tError (restore archive): \", sys.exc_info())\n",
    "        return False\n",
    "    if verbose:\n",
    "        print(\"\\tSuccesfully restored\", method, datatype, \"data.\")\n",
    "    return True"
   ]
  },
  {
   "cell_type": "code",
   "execution_count": 3,
   "metadata": {},
   "outputs": [
    {
     "name": "stdout",
     "output_type": "stream",
     "text": [
      "Attempting to restore raw data.\n",
      "\tSuccesfully restored most recent raw data.\n"
     ]
    },
    {
     "data": {
      "text/plain": [
       "True"
      ]
     },
     "execution_count": 3,
     "metadata": {},
     "output_type": "execute_result"
    }
   ],
   "source": [
    "restoreData(verbose=True)"
   ]
  },
  {
   "cell_type": "code",
   "execution_count": null,
   "metadata": {},
   "outputs": [],
   "source": []
  }
 ],
 "metadata": {
  "kernelspec": {
   "display_name": "Python 3",
   "language": "python",
   "name": "python3"
  },
  "language_info": {
   "codemirror_mode": {
    "name": "ipython",
    "version": 3
   },
   "file_extension": ".py",
   "mimetype": "text/x-python",
   "name": "python",
   "nbconvert_exporter": "python",
   "pygments_lexer": "ipython3",
   "version": "3.5.1"
  }
 },
 "nbformat": 4,
 "nbformat_minor": 2
}
