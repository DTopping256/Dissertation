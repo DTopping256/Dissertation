{
 "cells": [
  {
   "cell_type": "code",
   "execution_count": 39,
   "metadata": {},
   "outputs": [],
   "source": [
    "import datetime\n",
    "import os\n",
    "import shutil\n",
    "import sys\n",
    "import time\n",
    "import zipfile\n",
    "\n",
    "# Allows me to import my modules\n",
    "sys.path.append('./modules')\n",
    "from audio_utils import *"
   ]
  },
  {
   "cell_type": "code",
   "execution_count": 43,
   "metadata": {},
   "outputs": [],
   "source": [
    "def archiveData(datatype=\"raw\", verbose=False):\n",
    "    if verbose:\n",
    "        print(\"Attempting to archive\", datatype, \"data.\")\n",
    "    try:\n",
    "        currentfiles = os.listdir(os.getcwd())\n",
    "        # Filter non datatype.zip files\n",
    "        currentfiles = list(map(lambda filename: int(filename[len(datatype)+1:-15]), filter(lambda filename: filename[:len(datatype)] == datatype and filename[-4:] == \".zip\", currentfiles)))\n",
    "        currentfiles.sort(reverse=True)\n",
    "        uid = 0\n",
    "        if (len(currentfiles) > 0):\n",
    "            uid = currentfiles[0]+1  \n",
    "        with zipfile.ZipFile(datatype+\"_\"+str(uid)+\"_\"+str(datetime.datetime.now())[:10]+\".zip\", mode=\"x\") as archive:\n",
    "            for root, dirs, files in os.walk(os.path.join(os.getcwd(), SETTINGS.data_paths[datatype])):\n",
    "                for file in files:\n",
    "                    archive.write(os.path.relpath(os.path.join(root, file)))\n",
    "    except:\n",
    "        print(\"Error (archive): \", sys.exc_info())\n",
    "        return False\n",
    "    try:\n",
    "        for root, dirs, files in os.walk(os.path.join(os.getcwd(), SETTINGS.data_paths[datatype])):\n",
    "            for directory in dirs:\n",
    "                shutil.rmtree(os.path.relpath(os.path.join(root, directory)))\n",
    "    except:\n",
    "        print(\"Error (cleaning): \", sys.exc_info())\n",
    "        return False\n",
    "    return True"
   ]
  },
  {
   "cell_type": "code",
   "execution_count": 42,
   "metadata": {},
   "outputs": [
    {
     "name": "stdout",
     "output_type": "stream",
     "text": [
      "Attempting to archive raw data.\n",
      "[]\n"
     ]
    },
    {
     "data": {
      "text/plain": [
       "True"
      ]
     },
     "execution_count": 42,
     "metadata": {},
     "output_type": "execute_result"
    }
   ],
   "source": [
    "archiveData(\"raw\", verbose=True)"
   ]
  }
 ],
 "metadata": {
  "kernelspec": {
   "display_name": "Python 3",
   "language": "python",
   "name": "python3"
  },
  "language_info": {
   "codemirror_mode": {
    "name": "ipython",
    "version": 3
   },
   "file_extension": ".py",
   "mimetype": "text/x-python",
   "name": "python",
   "nbconvert_exporter": "python",
   "pygments_lexer": "ipython3",
   "version": "3.5.1"
  }
 },
 "nbformat": 4,
 "nbformat_minor": 2
}
