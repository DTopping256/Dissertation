{
 "cells": [
  {
   "cell_type": "markdown",
   "metadata": {},
   "source": [
    "# Model C (linear spectrogram input)\n",
    "## With: one-hot labelling and binary cross-entropy loss."
   ]
  },
  {
   "cell_type": "code",
   "execution_count": 1,
   "metadata": {},
   "outputs": [
    {
     "name": "stderr",
     "output_type": "stream",
     "text": [
      "Using TensorFlow backend.\n"
     ]
    },
    {
     "name": "stdout",
     "output_type": "stream",
     "text": [
      "Attempting to read settings file...\n",
      "\tRead successfully!\n"
     ]
    }
   ],
   "source": [
    "import sys\n",
    "import os\n",
    "import tensorflow as tf\n",
    "from tensorflow.python.client import device_lib\n",
    "from keras import backend as K\n",
    "from keras.layers import Activation, Add, Conv2D, Dense, Dropout, Flatten, Input, LeakyReLU\n",
    "from keras.losses import kullback_leibler_divergence\n",
    "from keras.metrics import categorical_accuracy\n",
    "from custom_metric import rounded_all_or_nothing_acc as RAON_accuracy\n",
    "from keras.models import Model\n",
    "from generator import AudioGenerator, kltls, multilabelled_labels_to_ys, multilabelled_ys_to_labels, onehot_superclass_labels_to_ys, onehot_superclass_ys_to_labels, MULTI_LABEL, ONE_HOT, LOG_SPECTROGRAM, LINEAR_SPECTROGRAM\n",
    "import pickle\n",
    "import numpy as np\n",
    "import datetime\n",
    "import math\n",
    "from keras.callbacks import TensorBoard\n",
    "from time_callback import Time_Callback\n",
    "\n",
    "# Allows me to import my modules\n",
    "sys.path.append('./modules')\n",
    "from audio_utils import *"
   ]
  },
  {
   "cell_type": "code",
   "execution_count": 2,
   "metadata": {},
   "outputs": [
    {
     "data": {
      "text/plain": [
       "[name: \"/device:CPU:0\"\n",
       " device_type: \"CPU\"\n",
       " memory_limit: 268435456\n",
       " locality {\n",
       " }\n",
       " incarnation: 4272757743367519082, name: \"/device:GPU:0\"\n",
       " device_type: \"GPU\"\n",
       " memory_limit: 577778483\n",
       " locality {\n",
       "   bus_id: 1\n",
       "   links {\n",
       "   }\n",
       " }\n",
       " incarnation: 17740018118599652050\n",
       " physical_device_desc: \"device: 0, name: GeForce GTX 650, pci bus id: 0000:01:00.0, compute capability: 3.0\"]"
      ]
     },
     "execution_count": 2,
     "metadata": {},
     "output_type": "execute_result"
    }
   ],
   "source": [
    "# This makes sure that Tensorflow has access to my GPU, as well as my CPU.\n",
    "device_lib.list_local_devices()"
   ]
  },
  {
   "cell_type": "code",
   "execution_count": 3,
   "metadata": {},
   "outputs": [],
   "source": [
    "# Tells Tensorflow to use the GPU\n",
    "gpu_options = tf.GPUOptions(per_process_gpu_memory_fraction=0.2)\n",
    "\n",
    "config = tf.ConfigProto(allow_soft_placement=True,\n",
    "                        device_count = {'CPU' : 1,\n",
    "                                        'GPU' : 1},\n",
    "                        log_device_placement = True,\n",
    "                        gpu_options=gpu_options\n",
    "                       )\n",
    "\n",
    "session = tf.Session(config=config)\n",
    "K.set_session(session)\n",
    "model_name = \"modelC-Linear-OneHot-bce-adam_\" + str(datetime.datetime.now().strftime('%d-%m-%Y_%H-%M-%S'))"
   ]
  },
  {
   "cell_type": "code",
   "execution_count": 4,
   "metadata": {},
   "outputs": [],
   "source": [
    "# Data generators\n",
    "batch_size = 50\n",
    "generators = {\"training\": None, \"validation\": None, \"test\": None}\n",
    "N = {\"training\": 0, \"validation\": 0, \"test\": 0}\n",
    "for data_type in generators.keys():\n",
    "    sample_metadata = get_file_classes(data_type)\n",
    "    N[data_type] = len(sample_metadata)\n",
    "    filenames = [sm[\"filepath\"] for sm in sample_metadata]\n",
    "    labels = [sm[\"labels\"] for sm in sample_metadata]\n",
    "    generators[data_type] = AudioGenerator(filenames, labels, data_type, batch_size, shuffle=True, problem_type=ONE_HOT, input_type=LINEAR_SPECTROGRAM)"
   ]
  },
  {
   "cell_type": "code",
   "execution_count": 5,
   "metadata": {},
   "outputs": [
    {
     "name": "stdout",
     "output_type": "stream",
     "text": [
      "Gen training\n",
      "In shape: (50, 129, 53, 1) \n",
      "Out shape: (50, 87)\n",
      "Gen validation\n",
      "In shape: (50, 129, 53, 1) \n",
      "Out shape: (50, 87)\n",
      "Gen test\n",
      "In shape: (50, 129, 53, 1) \n",
      "Out shape: (50, 87)\n"
     ]
    }
   ],
   "source": [
    "# Check the input and output spaces of the generators on each data set\n",
    "batch_y_shape = None \n",
    "for name, gen in generators.items():\n",
    "    print(\"Gen\", name)\n",
    "    batch_0 = gen.__getitem__(0)\n",
    "    print(\"In shape:\", batch_0[0].shape, \"\\nOut shape:\", batch_0[1].shape)\n",
    "    batch_y_shape = batch_0[1].shape"
   ]
  },
  {
   "cell_type": "code",
   "execution_count": 6,
   "metadata": {},
   "outputs": [
    {
     "name": "stdout",
     "output_type": "stream",
     "text": [
      "Picklable: True\n"
     ]
    }
   ],
   "source": [
    "# Test whether generator arguments are picklable (whether they can be multiprocessed)\n",
    "use_multiprocessing = True\n",
    "for gen in generators:\n",
    "    try:\n",
    "        pickle.dumps(gen)\n",
    "    except:\n",
    "        print(sys.exc_info())\n",
    "        use_multiprocessing = False\n",
    "        break\n",
    "print(\"Picklable:\", use_multiprocessing)"
   ]
  },
  {
   "cell_type": "markdown",
   "metadata": {},
   "source": [
    "## Rationale\n",
    "\n",
    "### Model structure\n",
    "\n",
    "2 \"2DConvAct\" convolution layers which reduce the size of the sample space while increasing the size of the convolution/feature space. Causal convolutions don't exist for 2D (yet) so fully connected 2D convolution will suffice.\n",
    "\n",
    "Creates feature space of 32, while downscaling the sample space to 33x14 (462). Compared to 129x53 (6837), total tensor sizes: 341850 -> 739200 (increase in data).\n",
    "\n",
    "After convoluton layers, LeakyReLU was used for activation because ReLU has been shown to perform well and LeakyReLU takes negatives into account slightly which appear in the data. For this reason He-normal was used to initialise the convolution kernals as this performs well with ReLU.\n",
    "\n",
    "Then 3 lots of \"DilatedDropoutSkipModule\" which retain the size of the sample space while extracting more features. With skip connections preserving earlier features. Finished with dropout layers to aid in generalisation during training.\n",
    "\n",
    "Flattened and passed to a fully-connected (dense layer) which reshapes the network into the output shape.\n",
    "\n",
    "Softmax activation layer for one-hot classification.\n",
    "\n",
    "Techniques from lit review:\n",
    "- LeNet: Convolutions with `stride > 1` to downscale sample space.\n",
    "- Using 1x1 convolution layers to downscale feature space, instead of pooling layers. \n",
    "- Leaky ReLU & He kernal inits.\n",
    "- Dropout for generalisation during training.\n",
    "- ResNet for skip connections.\n",
    "\n",
    "### Loss function\n",
    "\n",
    "Binary cross-entropy was used for this one-hot encoded problem."
   ]
  },
  {
   "cell_type": "code",
   "execution_count": 7,
   "metadata": {},
   "outputs": [
    {
     "name": "stdout",
     "output_type": "stream",
     "text": [
      "WARNING:tensorflow:From c:\\python37\\lib\\site-packages\\tensorflow\\python\\framework\\op_def_library.py:263: colocate_with (from tensorflow.python.framework.ops) is deprecated and will be removed in a future version.\n",
      "Instructions for updating:\n",
      "Colocations handled automatically by placer.\n",
      "WARNING:tensorflow:From c:\\python37\\lib\\site-packages\\keras\\backend\\tensorflow_backend.py:3445: calling dropout (from tensorflow.python.ops.nn_ops) with keep_prob is deprecated and will be removed in a future version.\n",
      "Instructions for updating:\n",
      "Please use `rate` instead of `keep_prob`. Rate should be set to `rate = 1 - keep_prob`.\n",
      "input_1 (None, 129, 53, 1)\n",
      "conv2d_1 (None, 65, 27, 16)\n",
      "leaky_re_lu_1 (None, 65, 27, 16)\n",
      "conv2d_2 (None, 33, 14, 32)\n",
      "leaky_re_lu_2 (None, 33, 14, 32)\n",
      "dropout_1 (None, 33, 14, 32)\n",
      "conv2d_3 (None, 33, 14, 1)\n",
      "conv2d_4 (None, 33, 14, 8)\n",
      "conv2d_5 (None, 33, 14, 32)\n",
      "leaky_re_lu_3 (None, 33, 14, 32)\n",
      "add_1 (None, 33, 14, 32)\n",
      "dropout_2 (None, 33, 14, 32)\n",
      "conv2d_6 (None, 33, 14, 1)\n",
      "conv2d_7 (None, 33, 14, 8)\n",
      "conv2d_8 (None, 33, 14, 32)\n",
      "leaky_re_lu_4 (None, 33, 14, 32)\n",
      "add_2 (None, 33, 14, 32)\n",
      "dropout_3 (None, 33, 14, 32)\n",
      "conv2d_9 (None, 33, 14, 1)\n",
      "conv2d_10 (None, 33, 14, 8)\n",
      "conv2d_11 (None, 33, 14, 32)\n",
      "leaky_re_lu_5 (None, 33, 14, 32)\n",
      "add_3 (None, 33, 14, 32)\n",
      "dropout_4 (None, 33, 14, 32)\n",
      "flatten_1 (None, 14784)\n",
      "dense_1 (None, 87)\n",
      "activation_1 (None, 87)\n"
     ]
    }
   ],
   "source": [
    "# Reusable series of layers\n",
    "def DilatedDropoutSkipModule(og_model, drop_rate):\n",
    "    model = Conv2D(filters=1, kernel_size=1, padding=\"same\", dilation_rate=1, kernel_initializer='he_normal')(og_model)\n",
    "    model = Conv2D(filters=8, kernel_size=3, padding=\"same\", dilation_rate=2, kernel_initializer='he_normal')(model)\n",
    "    model = Conv2D(filters=32, kernel_size=3, padding=\"same\", dilation_rate=2, kernel_initializer='he_normal')(model)\n",
    "    model = LeakyReLU(0.3)(model)\n",
    "    model = Add()([og_model, model])\n",
    "    return Dropout(rate=drop_rate)(model)\n",
    "\n",
    "# The dropout rates and amount of modules.\n",
    "NMODULES = 3\n",
    "DROP_RATES = [0.15, 0.2, 0.25]\n",
    "\n",
    "# Structure\n",
    "data = Input(shape=(129, 53, 1))\n",
    "cnn = Conv2D(filters=16, kernel_size=5, strides=2, padding=\"same\", dilation_rate=1, kernel_initializer='he_normal')(data)\n",
    "cnn = LeakyReLU(0.3)(cnn)\n",
    "cnn = Conv2D(filters=32, kernel_size=3, strides=2, padding=\"same\", dilation_rate=1, kernel_initializer='he_normal')(cnn)\n",
    "cnn = LeakyReLU(0.3)(cnn)\n",
    "cnn = Dropout(rate=0.1)(cnn)\n",
    "for i in range(NMODULES):\n",
    "    cnn = DilatedDropoutSkipModule(cnn, DROP_RATES[i])\n",
    "cnn = Flatten()(cnn)\n",
    "cnn = Dense(batch_y_shape[1], kernel_initializer='he_normal')(cnn)\n",
    "cnn = Activation(\"softmax\")(cnn)\n",
    "model = Model(inputs=data, outputs=cnn)\n",
    "\n",
    "for layer in model.layers:\n",
    "    print(layer.name, layer.output_shape)\n",
    "\n",
    "# Compile with stocastic gradient descent and mean squared error loss (same as multilabelled paper)\n",
    "model.compile(optimizer=\"adam\", loss=\"binary_crossentropy\", metrics=[categorical_accuracy, RAON_accuracy, kullback_leibler_divergence])"
   ]
  },
  {
   "cell_type": "code",
   "execution_count": 8,
   "metadata": {
    "scrolled": true
   },
   "outputs": [
    {
     "name": "stdout",
     "output_type": "stream",
     "text": [
      "WARNING:tensorflow:From c:\\python37\\lib\\site-packages\\tensorflow\\python\\ops\\math_ops.py:3066: to_int32 (from tensorflow.python.ops.math_ops) is deprecated and will be removed in a future version.\n",
      "Instructions for updating:\n",
      "Use tf.cast instead.\n",
      "Epoch 1/10\n",
      "1587/1587 [==============================] - 1451s 914ms/step - loss: 0.0741 - categorical_accuracy: 0.0258 - rounded_all_or_nothing_acc: 0.0012 - kullback_leibler_divergence: 5.3681 - val_loss: 0.0650 - val_categorical_accuracy: 0.0274 - val_rounded_all_or_nothing_acc: 0.0000e+00 - val_kullback_leibler_divergence: 4.6510\n",
      "Epoch 2/10\n",
      "1587/1587 [==============================] - 1416s 892ms/step - loss: 0.0604 - categorical_accuracy: 0.0315 - rounded_all_or_nothing_acc: 0.0000e+00 - kullback_leibler_divergence: 4.2626 - val_loss: 0.0606 - val_categorical_accuracy: 0.0321 - val_rounded_all_or_nothing_acc: 0.0000e+00 - val_kullback_leibler_divergence: 4.2787\n",
      "Epoch 3/10\n",
      "1587/1587 [==============================] - 1421s 895ms/step - loss: 0.0603 - categorical_accuracy: 0.0319 - rounded_all_or_nothing_acc: 0.0000e+00 - kullback_leibler_divergence: 4.2584 - val_loss: 0.0603 - val_categorical_accuracy: 0.0278 - val_rounded_all_or_nothing_acc: 0.0000e+00 - val_kullback_leibler_divergence: 4.2573\n",
      "Epoch 4/10\n",
      "1587/1587 [==============================] - 1597s 1s/step - loss: 0.0603 - categorical_accuracy: 0.0313 - rounded_all_or_nothing_acc: 0.0000e+00 - kullback_leibler_divergence: 4.2583 - val_loss: 0.0603 - val_categorical_accuracy: 0.0314 - val_rounded_all_or_nothing_acc: 0.0000e+00 - val_kullback_leibler_divergence: 4.2537\n",
      "Epoch 5/10\n",
      "1587/1587 [==============================] - 1405s 885ms/step - loss: 0.0604 - categorical_accuracy: 0.0317 - rounded_all_or_nothing_acc: 0.0000e+00 - kullback_leibler_divergence: 4.2600 - val_loss: 0.0604 - val_categorical_accuracy: 0.0326 - val_rounded_all_or_nothing_acc: 0.0000e+00 - val_kullback_leibler_divergence: 4.2654\n",
      "Epoch 6/10\n",
      "1587/1587 [==============================] - 1293s 815ms/step - loss: 0.0604 - categorical_accuracy: 0.0300 - rounded_all_or_nothing_acc: 0.0000e+00 - kullback_leibler_divergence: 4.2626 - val_loss: 0.0602 - val_categorical_accuracy: 0.0332 - val_rounded_all_or_nothing_acc: 0.0000e+00 - val_kullback_leibler_divergence: 4.2511\n",
      "Epoch 7/10\n",
      "1587/1587 [==============================] - 1641s 1s/step - loss: 0.0604 - categorical_accuracy: 0.0311 - rounded_all_or_nothing_acc: 0.0000e+00 - kullback_leibler_divergence: 4.2609 - val_loss: 0.0602 - val_categorical_accuracy: 0.0327 - val_rounded_all_or_nothing_acc: 0.0000e+00 - val_kullback_leibler_divergence: 4.2478\n",
      "Epoch 8/10\n",
      "1587/1587 [==============================] - 1412s 890ms/step - loss: 0.0603 - categorical_accuracy: 0.0312 - rounded_all_or_nothing_acc: 0.0000e+00 - kullback_leibler_divergence: 4.2598 - val_loss: 0.0603 - val_categorical_accuracy: 0.0320 - val_rounded_all_or_nothing_acc: 0.0000e+00 - val_kullback_leibler_divergence: 4.2517\n",
      "Epoch 9/10\n",
      "1587/1587 [==============================] - 1310s 825ms/step - loss: 0.0603 - categorical_accuracy: 0.0307 - rounded_all_or_nothing_acc: 0.0000e+00 - kullback_leibler_divergence: 4.2598 - val_loss: 0.0603 - val_categorical_accuracy: 0.0274 - val_rounded_all_or_nothing_acc: 0.0000e+00 - val_kullback_leibler_divergence: 4.2539\n",
      "Epoch 10/10\n",
      "1587/1587 [==============================] - 1674s 1s/step - loss: 0.0603 - categorical_accuracy: 0.0322 - rounded_all_or_nothing_acc: 0.0000e+00 - kullback_leibler_divergence: 4.2586 - val_loss: 0.0602 - val_categorical_accuracy: 0.0331 - val_rounded_all_or_nothing_acc: 0.0000e+00 - val_kullback_leibler_divergence: 4.2489\n"
     ]
    }
   ],
   "source": [
    "# Training logs\n",
    "log_dir = \"logs/{}\".format(model_name)\n",
    "# Tensorboard log\n",
    "tb_log = TensorBoard(log_dir=log_dir)\n",
    "# Custom time log\n",
    "time_log = Time_Callback(log_dir=log_dir)\n",
    "\n",
    "# Train model\n",
    "epochs = 10\n",
    "dataset_perc = 1\n",
    "training_history = model.fit_generator(\n",
    "                generator = generators[\"training\"],\n",
    "                steps_per_epoch = int(N[\"training\"]*dataset_perc) // batch_size,\n",
    "                validation_data = generators[\"validation\"],\n",
    "                validation_steps = int(N[\"validation\"]*dataset_perc) // batch_size,\n",
    "                epochs = epochs,\n",
    "                callbacks = [tb_log, time_log],\n",
    "                use_multiprocessing = use_multiprocessing,\n",
    "                workers = 4\n",
    ")"
   ]
  },
  {
   "cell_type": "markdown",
   "metadata": {},
   "source": [
    "### Evaluation of model\n",
    "\n",
    "After 10 epochs of training and validation with the training and validation data sets, a seperate evaluation run calculated the final accuracy of the model using the test data set."
   ]
  },
  {
   "cell_type": "code",
   "execution_count": 9,
   "metadata": {
    "scrolled": true
   },
   "outputs": [
    {
     "data": {
      "text/plain": [
       "[0.06022255770354108, 0.03333333238366653, 0.0, 4.249009882410367]"
      ]
     },
     "execution_count": 9,
     "metadata": {},
     "output_type": "execute_result"
    }
   ],
   "source": [
    "# Evaluate model\n",
    "model.evaluate_generator(\n",
    "    generators[\"test\"],\n",
    "    int(N[\"test\"]*dataset_perc) // batch_size,\n",
    "    use_multiprocessing = use_multiprocessing,\n",
    "    workers = 4\n",
    ")"
   ]
  },
  {
   "cell_type": "code",
   "execution_count": 10,
   "metadata": {},
   "outputs": [
    {
     "name": "stdout",
     "output_type": "stream",
     "text": [
      "Saved model to disk\n"
     ]
    }
   ],
   "source": [
    "# Save model and weights to `/models` directory\n",
    "save_dir = os.path.join(os.getcwd(), \"models\")\n",
    "if not os.path.exists(save_dir):\n",
    "    os.makedirs(save_dir)\n",
    "model_json = model.to_json()\n",
    "with open(os.path.join(save_dir, \"{}.json\".format(model_name)), \"w\") as json_file:\n",
    "    json_file.write(model_json)\n",
    "# serialize weights to HDF5\n",
    "model.save_weights(os.path.join(save_dir, \"{}.h5\".format(model_name)))\n",
    "print(\"Saved model to disk\")"
   ]
  },
  {
   "cell_type": "markdown",
   "metadata": {},
   "source": [
    "### Some examples of predictions using test data set"
   ]
  },
  {
   "cell_type": "code",
   "execution_count": 11,
   "metadata": {},
   "outputs": [],
   "source": [
    "generators[\"test\"].on_epoch_end()\n",
    "batch0_test = generators[\"test\"].__getitem__(0)"
   ]
  },
  {
   "cell_type": "code",
   "execution_count": 12,
   "metadata": {},
   "outputs": [
    {
     "name": "stdout",
     "output_type": "stream",
     "text": [
      "Sample 0\n",
      "Actual:\n",
      "\t[0. 0. 0. 0. 0. 0. 0. 0. 0. 0. 0. 0. 0. 0. 0. 0. 0. 0. 0. 0. 0. 0. 0. 0.\n",
      " 0. 0. 0. 0. 0. 0. 0. 0. 0. 0. 0. 0. 0. 0. 0. 0. 0. 0. 0. 0. 0. 0. 0. 0.\n",
      " 0. 0. 0. 0. 0. 0. 0. 0. 0. 0. 0. 0. 0. 0. 0. 0. 0. 0. 0. 0. 0. 0. 0. 0.\n",
      " 0. 1. 0. 0. 0. 0. 0. 0. 0. 0. 0. 0. 0. 0. 0.],\n",
      "\t{'hit_label': ['beater', 'stick', 'stick'], 'kit_label': ['bass_drum', 'high_tom', 'low_tom'], 'tech_label': ['normal', 'normal', 'normal']}\n",
      "Prediction:\n",
      "\t[0.017, 0.013, 0.019, 0.018, 0.016, 0.019, 0.018, 0.016, 0.019, 0.022, 0.01, 0.011, 0.01, 0.01, 0.009, 0.011, 0.01, 0.01, 0.012, 0.01, 0.012, 0.009, 0.014, 0.011, 0.013, 0.01, 0.01, 0.012, 0.009, 0.008, 0.01, 0.011, 0.015, 0.008, 0.009, 0.011, 0.01, 0.009, 0.009, 0.008, 0.009, 0.012, 0.013, 0.013, 0.011, 0.011, 0.01, 0.011, 0.013, 0.011, 0.014, 0.013, 0.01, 0.013, 0.013, 0.015, 0.01, 0.012, 0.011, 0.011, 0.009, 0.008, 0.01, 0.012, 0.013, 0.01, 0.011, 0.01, 0.012, 0.008, 0.013, 0.01, 0.015, 0.007, 0.011, 0.006, 0.012, 0.011, 0.007, 0.007, 0.01, 0.01, 0.011, 0.011, 0.009, 0.009, 0.015],\n",
      "\t{'hit_label': [], 'kit_label': [], 'tech_label': []}\n",
      "\n",
      "Sample 1\n",
      "Actual:\n",
      "\t[0. 0. 1. 0. 0. 0. 0. 0. 0. 0. 0. 0. 0. 0. 0. 0. 0. 0. 0. 0. 0. 0. 0. 0.\n",
      " 0. 0. 0. 0. 0. 0. 0. 0. 0. 0. 0. 0. 0. 0. 0. 0. 0. 0. 0. 0. 0. 0. 0. 0.\n",
      " 0. 0. 0. 0. 0. 0. 0. 0. 0. 0. 0. 0. 0. 0. 0. 0. 0. 0. 0. 0. 0. 0. 0. 0.\n",
      " 0. 0. 0. 0. 0. 0. 0. 0. 0. 0. 0. 0. 0. 0. 0.],\n",
      "\t{'hit_label': ['stick'], 'kit_label': ['hi_hat'], 'tech_label': ['normal']}\n",
      "Prediction:\n",
      "\t[0.017, 0.013, 0.019, 0.018, 0.016, 0.019, 0.018, 0.016, 0.019, 0.022, 0.01, 0.011, 0.01, 0.01, 0.009, 0.011, 0.01, 0.01, 0.012, 0.01, 0.012, 0.009, 0.014, 0.011, 0.013, 0.01, 0.01, 0.012, 0.009, 0.008, 0.01, 0.011, 0.015, 0.008, 0.009, 0.011, 0.01, 0.009, 0.009, 0.008, 0.009, 0.012, 0.013, 0.013, 0.011, 0.011, 0.01, 0.011, 0.013, 0.011, 0.014, 0.013, 0.01, 0.013, 0.013, 0.015, 0.01, 0.012, 0.011, 0.011, 0.009, 0.008, 0.01, 0.012, 0.013, 0.01, 0.011, 0.01, 0.012, 0.008, 0.013, 0.01, 0.015, 0.007, 0.011, 0.006, 0.012, 0.011, 0.007, 0.007, 0.01, 0.01, 0.011, 0.011, 0.009, 0.009, 0.015],\n",
      "\t{'hit_label': [], 'kit_label': [], 'tech_label': []}\n",
      "\n",
      "Sample 2\n",
      "Actual:\n",
      "\t[0. 0. 0. 0. 0. 0. 0. 0. 0. 0. 0. 0. 0. 0. 0. 0. 0. 0. 0. 0. 0. 0. 0. 1.\n",
      " 0. 0. 0. 0. 0. 0. 0. 0. 0. 0. 0. 0. 0. 0. 0. 0. 0. 0. 0. 0. 0. 0. 0. 0.\n",
      " 0. 0. 0. 0. 0. 0. 0. 0. 0. 0. 0. 0. 0. 0. 0. 0. 0. 0. 0. 0. 0. 0. 0. 0.\n",
      " 0. 0. 0. 0. 0. 0. 0. 0. 0. 0. 0. 0. 0. 0. 0.],\n",
      "\t{'hit_label': ['stick', 'stick'], 'kit_label': ['crash', 'mid_tom'], 'tech_label': ['normal', 'normal']}\n",
      "Prediction:\n",
      "\t[0.017, 0.013, 0.019, 0.018, 0.016, 0.019, 0.018, 0.016, 0.019, 0.022, 0.01, 0.011, 0.01, 0.01, 0.009, 0.011, 0.01, 0.01, 0.012, 0.01, 0.012, 0.009, 0.014, 0.011, 0.013, 0.01, 0.01, 0.012, 0.009, 0.008, 0.01, 0.011, 0.015, 0.008, 0.009, 0.011, 0.01, 0.009, 0.009, 0.008, 0.009, 0.012, 0.013, 0.013, 0.011, 0.011, 0.01, 0.011, 0.013, 0.011, 0.014, 0.013, 0.01, 0.013, 0.013, 0.015, 0.01, 0.012, 0.011, 0.011, 0.009, 0.008, 0.01, 0.012, 0.013, 0.01, 0.011, 0.01, 0.012, 0.008, 0.013, 0.01, 0.015, 0.007, 0.011, 0.006, 0.012, 0.011, 0.007, 0.007, 0.01, 0.01, 0.011, 0.011, 0.009, 0.009, 0.015],\n",
      "\t{'hit_label': [], 'kit_label': [], 'tech_label': []}\n",
      "\n",
      "Sample 3\n",
      "Actual:\n",
      "\t[0. 0. 0. 0. 0. 0. 0. 0. 0. 0. 0. 0. 0. 0. 0. 0. 0. 0. 0. 0. 0. 0. 0. 0.\n",
      " 0. 0. 0. 0. 0. 0. 0. 0. 0. 0. 0. 0. 0. 0. 0. 0. 0. 0. 0. 0. 0. 0. 0. 0.\n",
      " 0. 0. 0. 0. 0. 0. 0. 0. 0. 0. 0. 0. 0. 0. 0. 0. 0. 1. 0. 0. 0. 0. 0. 0.\n",
      " 0. 0. 0. 0. 0. 0. 0. 0. 0. 0. 0. 0. 0. 0. 0.],\n",
      "\t{'hit_label': ['beater', 'stick', 'stick'], 'kit_label': ['bass_drum', 'hi_hat', 'ride'], 'tech_label': ['normal', 'normal', 'normal']}\n",
      "Prediction:\n",
      "\t[0.03, 0.025, 0.037, 0.038, 0.027, 0.037, 0.028, 0.032, 0.029, 0.03, 0.006, 0.007, 0.005, 0.006, 0.006, 0.006, 0.007, 0.007, 0.006, 0.01, 0.01, 0.007, 0.012, 0.007, 0.013, 0.008, 0.007, 0.016, 0.012, 0.008, 0.008, 0.005, 0.012, 0.008, 0.009, 0.008, 0.005, 0.006, 0.007, 0.004, 0.008, 0.011, 0.013, 0.01, 0.009, 0.013, 0.013, 0.007, 0.012, 0.011, 0.01, 0.013, 0.011, 0.012, 0.01, 0.014, 0.012, 0.009, 0.012, 0.012, 0.009, 0.008, 0.007, 0.014, 0.011, 0.012, 0.007, 0.005, 0.01, 0.009, 0.006, 0.006, 0.012, 0.002, 0.007, 0.004, 0.009, 0.01, 0.004, 0.005, 0.007, 0.01, 0.01, 0.011, 0.01, 0.008, 0.014],\n",
      "\t{'hit_label': [], 'kit_label': [], 'tech_label': []}\n",
      "\n",
      "Sample 4\n",
      "Actual:\n",
      "\t[0. 0. 0. 0. 0. 0. 0. 0. 0. 0. 0. 0. 0. 0. 0. 0. 0. 0. 0. 0. 0. 0. 0. 0.\n",
      " 0. 0. 0. 0. 0. 0. 0. 0. 0. 0. 0. 0. 0. 0. 0. 0. 0. 0. 0. 0. 0. 0. 1. 0.\n",
      " 0. 0. 0. 0. 0. 0. 0. 0. 0. 0. 0. 0. 0. 0. 0. 0. 0. 0. 0. 0. 0. 0. 0. 0.\n",
      " 0. 0. 0. 0. 0. 0. 0. 0. 0. 0. 0. 0. 0. 0. 0.],\n",
      "\t{'hit_label': ['stick', 'stick'], 'kit_label': ['low_tom', 'ride'], 'tech_label': ['normal', 'normal']}\n",
      "Prediction:\n",
      "\t[0.017, 0.013, 0.019, 0.018, 0.016, 0.019, 0.018, 0.016, 0.019, 0.022, 0.01, 0.011, 0.01, 0.01, 0.009, 0.011, 0.01, 0.01, 0.012, 0.01, 0.012, 0.009, 0.014, 0.011, 0.013, 0.01, 0.01, 0.012, 0.009, 0.008, 0.01, 0.011, 0.015, 0.008, 0.009, 0.011, 0.01, 0.009, 0.009, 0.008, 0.009, 0.012, 0.013, 0.013, 0.011, 0.011, 0.01, 0.011, 0.013, 0.011, 0.014, 0.013, 0.01, 0.013, 0.013, 0.015, 0.01, 0.012, 0.011, 0.011, 0.009, 0.008, 0.01, 0.012, 0.013, 0.01, 0.011, 0.01, 0.012, 0.008, 0.013, 0.01, 0.015, 0.007, 0.011, 0.006, 0.012, 0.011, 0.007, 0.007, 0.01, 0.01, 0.011, 0.011, 0.009, 0.009, 0.015],\n",
      "\t{'hit_label': [], 'kit_label': [], 'tech_label': []}\n",
      "\n",
      "Sample 5\n",
      "Actual:\n",
      "\t[0. 0. 0. 0. 0. 0. 0. 0. 0. 0. 0. 0. 0. 0. 0. 0. 0. 0. 0. 0. 0. 0. 0. 0.\n",
      " 1. 0. 0. 0. 0. 0. 0. 0. 0. 0. 0. 0. 0. 0. 0. 0. 0. 0. 0. 0. 0. 0. 0. 0.\n",
      " 0. 0. 0. 0. 0. 0. 0. 0. 0. 0. 0. 0. 0. 0. 0. 0. 0. 0. 0. 0. 0. 0. 0. 0.\n",
      " 0. 0. 0. 0. 0. 0. 0. 0. 0. 0. 0. 0. 0. 0. 0.],\n",
      "\t{'hit_label': ['stick', 'stick'], 'kit_label': ['crash', 'ride'], 'tech_label': ['normal', 'bell']}\n",
      "Prediction:\n",
      "\t[0.017, 0.013, 0.019, 0.018, 0.016, 0.019, 0.018, 0.016, 0.019, 0.022, 0.01, 0.011, 0.01, 0.01, 0.009, 0.011, 0.01, 0.01, 0.012, 0.01, 0.012, 0.009, 0.014, 0.011, 0.013, 0.01, 0.01, 0.012, 0.009, 0.008, 0.01, 0.011, 0.015, 0.008, 0.009, 0.011, 0.01, 0.009, 0.009, 0.008, 0.009, 0.012, 0.013, 0.013, 0.011, 0.011, 0.01, 0.011, 0.013, 0.011, 0.014, 0.013, 0.01, 0.013, 0.013, 0.015, 0.01, 0.012, 0.011, 0.011, 0.009, 0.008, 0.01, 0.012, 0.013, 0.01, 0.011, 0.01, 0.012, 0.008, 0.013, 0.01, 0.015, 0.007, 0.011, 0.006, 0.012, 0.011, 0.007, 0.007, 0.01, 0.01, 0.011, 0.011, 0.009, 0.009, 0.015],\n",
      "\t{'hit_label': [], 'kit_label': [], 'tech_label': []}\n",
      "\n",
      "Sample 6\n",
      "Actual:\n",
      "\t[0. 0. 0. 0. 0. 1. 0. 0. 0. 0. 0. 0. 0. 0. 0. 0. 0. 0. 0. 0. 0. 0. 0. 0.\n",
      " 0. 0. 0. 0. 0. 0. 0. 0. 0. 0. 0. 0. 0. 0. 0. 0. 0. 0. 0. 0. 0. 0. 0. 0.\n",
      " 0. 0. 0. 0. 0. 0. 0. 0. 0. 0. 0. 0. 0. 0. 0. 0. 0. 0. 0. 0. 0. 0. 0. 0.\n",
      " 0. 0. 0. 0. 0. 0. 0. 0. 0. 0. 0. 0. 0. 0. 0.],\n",
      "\t{'hit_label': ['stick'], 'kit_label': ['low_tom'], 'tech_label': ['normal']}\n",
      "Prediction:\n",
      "\t[0.041, 0.033, 0.056, 0.057, 0.051, 0.056, 0.059, 0.05, 0.065, 0.049, 0.007, 0.009, 0.01, 0.003, 0.003, 0.009, 0.007, 0.008, 0.008, 0.007, 0.008, 0.008, 0.01, 0.012, 0.011, 0.008, 0.01, 0.008, 0.005, 0.005, 0.011, 0.01, 0.011, 0.005, 0.007, 0.008, 0.011, 0.008, 0.006, 0.011, 0.009, 0.007, 0.009, 0.013, 0.008, 0.007, 0.007, 0.01, 0.008, 0.008, 0.012, 0.011, 0.009, 0.003, 0.003, 0.005, 0.004, 0.004, 0.003, 0.002, 0.006, 0.001, 0.001, 0.001, 0.006, 0.004, 0.004, 0.004, 0.005, 0.002, 0.009, 0.006, 0.003, 0.003, 0.004, 0.001, 0.004, 0.005, 0.003, 0.002, 0.004, 0.004, 0.002, 0.002, 0.003, 0.003, 0.005],\n",
      "\t{'hit_label': [], 'kit_label': [], 'tech_label': []}\n",
      "\n",
      "Sample 7\n",
      "Actual:\n",
      "\t[0. 0. 0. 0. 0. 0. 0. 0. 0. 0. 0. 0. 0. 0. 0. 0. 0. 0. 0. 1. 0. 0. 0. 0.\n",
      " 0. 0. 0. 0. 0. 0. 0. 0. 0. 0. 0. 0. 0. 0. 0. 0. 0. 0. 0. 0. 0. 0. 0. 0.\n",
      " 0. 0. 0. 0. 0. 0. 0. 0. 0. 0. 0. 0. 0. 0. 0. 0. 0. 0. 0. 0. 0. 0. 0. 0.\n",
      " 0. 0. 0. 0. 0. 0. 0. 0. 0. 0. 0. 0. 0. 0. 0.],\n",
      "\t{'hit_label': ['stick', 'stick'], 'kit_label': ['crash', 'hi_hat'], 'tech_label': ['normal', 'normal']}\n",
      "Prediction:\n",
      "\t[0.017, 0.013, 0.019, 0.018, 0.016, 0.019, 0.018, 0.016, 0.019, 0.022, 0.01, 0.011, 0.01, 0.01, 0.009, 0.011, 0.01, 0.01, 0.012, 0.01, 0.012, 0.009, 0.014, 0.011, 0.013, 0.01, 0.01, 0.012, 0.009, 0.008, 0.01, 0.011, 0.015, 0.008, 0.009, 0.011, 0.01, 0.009, 0.009, 0.008, 0.009, 0.012, 0.013, 0.013, 0.011, 0.011, 0.01, 0.011, 0.013, 0.011, 0.014, 0.013, 0.01, 0.013, 0.013, 0.015, 0.01, 0.012, 0.011, 0.011, 0.009, 0.008, 0.01, 0.012, 0.013, 0.01, 0.011, 0.01, 0.012, 0.008, 0.013, 0.01, 0.015, 0.007, 0.011, 0.006, 0.012, 0.011, 0.007, 0.007, 0.01, 0.01, 0.011, 0.011, 0.009, 0.009, 0.015],\n",
      "\t{'hit_label': [], 'kit_label': [], 'tech_label': []}\n",
      "\n",
      "Sample 8\n",
      "Actual:\n",
      "\t[0. 0. 0. 0. 0. 0. 0. 0. 0. 0. 0. 0. 0. 0. 0. 0. 0. 0. 0. 0. 0. 0. 0. 0.\n",
      " 0. 0. 1. 0. 0. 0. 0. 0. 0. 0. 0. 0. 0. 0. 0. 0. 0. 0. 0. 0. 0. 0. 0. 0.\n",
      " 0. 0. 0. 0. 0. 0. 0. 0. 0. 0. 0. 0. 0. 0. 0. 0. 0. 0. 0. 0. 0. 0. 0. 0.\n",
      " 0. 0. 0. 0. 0. 0. 0. 0. 0. 0. 0. 0. 0. 0. 0.],\n",
      "\t{'hit_label': ['stick', 'stick'], 'kit_label': ['crash', 'snare'], 'tech_label': ['normal', 'normal']}\n",
      "Prediction:\n",
      "\t[0.017, 0.013, 0.019, 0.018, 0.016, 0.019, 0.018, 0.016, 0.019, 0.022, 0.01, 0.011, 0.01, 0.01, 0.009, 0.011, 0.01, 0.01, 0.012, 0.01, 0.012, 0.009, 0.014, 0.011, 0.013, 0.01, 0.01, 0.012, 0.009, 0.008, 0.01, 0.011, 0.015, 0.008, 0.009, 0.011, 0.01, 0.009, 0.009, 0.008, 0.009, 0.012, 0.013, 0.013, 0.011, 0.011, 0.01, 0.011, 0.013, 0.011, 0.014, 0.013, 0.01, 0.013, 0.013, 0.015, 0.01, 0.012, 0.011, 0.011, 0.009, 0.008, 0.01, 0.012, 0.013, 0.01, 0.011, 0.01, 0.012, 0.008, 0.013, 0.01, 0.015, 0.007, 0.011, 0.006, 0.012, 0.011, 0.007, 0.007, 0.01, 0.01, 0.011, 0.011, 0.009, 0.009, 0.015],\n",
      "\t{'hit_label': [], 'kit_label': [], 'tech_label': []}\n",
      "\n",
      "Sample 9\n",
      "Actual:\n",
      "\t[0. 0. 0. 0. 1. 0. 0. 0. 0. 0. 0. 0. 0. 0. 0. 0. 0. 0. 0. 0. 0. 0. 0. 0.\n",
      " 0. 0. 0. 0. 0. 0. 0. 0. 0. 0. 0. 0. 0. 0. 0. 0. 0. 0. 0. 0. 0. 0. 0. 0.\n",
      " 0. 0. 0. 0. 0. 0. 0. 0. 0. 0. 0. 0. 0. 0. 0. 0. 0. 0. 0. 0. 0. 0. 0. 0.\n",
      " 0. 0. 0. 0. 0. 0. 0. 0. 0. 0. 0. 0. 0. 0. 0.],\n",
      "\t{'hit_label': ['stick'], 'kit_label': ['high_tom'], 'tech_label': ['normal']}\n",
      "Prediction:\n",
      "\t[0.064, 0.05, 0.077, 0.075, 0.07, 0.068, 0.075, 0.084, 0.073, 0.057, 0.003, 0.004, 0.004, 0.002, 0.001, 0.001, 0.002, 0.004, 0.004, 0.005, 0.002, 0.005, 0.006, 0.014, 0.007, 0.003, 0.006, 0.004, 0.002, 0.004, 0.016, 0.017, 0.008, 0.003, 0.002, 0.004, 0.022, 0.013, 0.002, 0.013, 0.005, 0.003, 0.005, 0.007, 0.004, 0.003, 0.002, 0.004, 0.006, 0.005, 0.008, 0.007, 0.004, 0.004, 0.005, 0.004, 0.001, 0.001, 0.002, 0.002, 0.005, 0.0, 0.0, 0.003, 0.001, 0.001, 0.001, 0.001, 0.001, 0.002, 0.004, 0.003, 0.001, 0.0, 0.001, 0.0, 0.002, 0.002, 0.0, 0.0, 0.0, 0.004, 0.002, 0.002, 0.0, 0.0, 0.003],\n",
      "\t{'hit_label': [], 'kit_label': [], 'tech_label': []}\n",
      "\n"
     ]
    },
    {
     "name": "stdout",
     "output_type": "stream",
     "text": [
      "Categorical_accuracy (avg) 0.0\n",
      "RAON accuracy:  0.0\n"
     ]
    }
   ],
   "source": [
    "preds, trues = [], []\n",
    "for i in range(10):\n",
    "    x, y = batch0_test[0][i], batch0_test[1][i]\n",
    "    pred_y = np.reshape(model.predict(x.reshape(1, 129, 53, 1)), batch_y_shape[1])\n",
    "    print(\"Sample\", i)\n",
    "    print(\"Actual:\\n\\t{},\\n\\t{}\\nPrediction:\\n\\t{},\\n\\t{}\\n\".format(y, onehot_superclass_ys_to_labels(y), [round(p_y, 3) for p_y in pred_y.tolist()], onehot_superclass_ys_to_labels([int(round(p_y)) for p_y in pred_y.tolist()])))\n",
    "    preds.append(pred_y)\n",
    "    trues.append(y)\n",
    "\n",
    "preds_tensor = K.variable(np.array(preds))\n",
    "trues_tensor = K.variable(np.array(trues))\n",
    "print(\"Categorical_accuracy (avg)\", K.eval(K.mean(categorical_accuracy(trues_tensor, preds_tensor))))\n",
    "print(\"RAON accuracy: \", K.eval(RAON_accuracy(trues_tensor, preds_tensor)))"
   ]
  }
 ],
 "metadata": {
  "kernelspec": {
   "display_name": "Python 3",
   "language": "python",
   "name": "python3"
  },
  "language_info": {
   "codemirror_mode": {
    "name": "ipython",
    "version": 3
   },
   "file_extension": ".py",
   "mimetype": "text/x-python",
   "name": "python",
   "nbconvert_exporter": "python",
   "pygments_lexer": "ipython3",
   "version": "3.7.3"
  }
 },
 "nbformat": 4,
 "nbformat_minor": 2
}
